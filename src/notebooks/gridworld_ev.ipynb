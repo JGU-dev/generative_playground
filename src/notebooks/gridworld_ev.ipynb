{
 "cells": [
  {
   "cell_type": "code",
   "execution_count": null,
   "metadata": {},
   "outputs": [],
   "source": [
    "\n",
    "import matplotlib.pyplot as plt\n",
    "import torch.nn as nn\n",
    "import sys\n",
    "sys.path.append('..')\n",
    "from gridworld.agent import Agent\n",
    "from gridworld.environment import Gridworld\n",
    "from gridworld.q_function import QFunction, QDistFunction\n",
    "\n",
    "%matplotlib inline"
   ]
  },
  {
   "cell_type": "code",
   "execution_count": null,
   "metadata": {},
   "outputs": [],
   "source": [
    "distributions = True\n",
    "thompson = True\n",
    "gamma = 0.9\n",
    "if distributions:\n",
    "    q_function = QDistFunction(gamma=gamma, thompson=thompson)\n",
    "else:\n",
    "    q_function = QFunction()\n",
    "\n",
    "agent = Agent(\n",
    "    Gridworld.deterministic_easy(),\n",
    "    epsilon=0.001,\n",
    "    loss_fun=nn.MSELoss(),\n",
    "    q_function=q_function,\n",
    "    gamma=gamma,\n",
    "    lr=0.001\n",
    ")"
   ]
  },
  {
   "cell_type": "code",
   "execution_count": null,
   "metadata": {},
   "outputs": [],
   "source": [
    "rewards = agent.train(100)"
   ]
  },
  {
   "cell_type": "code",
   "execution_count": null,
   "metadata": {},
   "outputs": [],
   "source": [
    "rewards.plot()"
   ]
  },
  {
   "cell_type": "code",
   "execution_count": null,
   "metadata": {},
   "outputs": [],
   "source": [
    "agent.run_model()"
   ]
  }
 ],
 "metadata": {
  "kernelspec": {
   "display_name": "Python [default]",
   "language": "python",
   "name": "python3"
  },
  "language_info": {
   "codemirror_mode": {
    "name": "ipython",
    "version": 3
   },
   "file_extension": ".py",
   "mimetype": "text/x-python",
   "name": "python",
   "nbconvert_exporter": "python",
   "pygments_lexer": "ipython3",
   "version": "3.6.5"
  }
 },
 "nbformat": 4,
 "nbformat_minor": 2
}
