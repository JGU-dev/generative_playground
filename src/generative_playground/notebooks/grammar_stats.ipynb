{
 "cells": [
  {
   "cell_type": "code",
   "execution_count": 1,
   "metadata": {},
   "outputs": [
    {
     "name": "stderr",
     "output_type": "stream",
     "text": [
      "C:\\ProgramData\\Anaconda3\\lib\\site-packages\\h5py\\__init__.py:36: FutureWarning: Conversion of the second argument of issubdtype from `float` to `np.floating` is deprecated. In future, it will be treated as `np.float64 == np.dtype(float).type`.\n",
      "  from ._conv import register_converters as _register_converters\n"
     ]
    }
   ],
   "source": [
    "import rdkit\n",
    "import h5py\n",
    "import numpy as np"
   ]
  },
  {
   "cell_type": "code",
   "execution_count": 2,
   "metadata": {},
   "outputs": [],
   "source": [
    "data_dir = \"../data/\"\n",
    "old_grammar = h5py.File(data_dir + \"zinc_grammar_dataset.h5\")\n",
    "new_grammar = h5py.File(data_dir + \"zinc_grammar_dataset_new.h5\")"
   ]
  },
  {
   "cell_type": "code",
   "execution_count": 3,
   "metadata": {},
   "outputs": [
    {
     "name": "stdout",
     "output_type": "stream",
     "text": [
      "number of molecules new vs old: 92636 249456 0.37135206208710153\n"
     ]
    }
   ],
   "source": [
    "new_indices = np.array(new_grammar['indices'])\n",
    "oldlen =  len(old_grammar['indices'])\n",
    "\n",
    "print('number of molecules new vs old:',len(new_indices),oldlen, len(new_indices)/oldlen)"
   ]
  },
  {
   "cell_type": "code",
   "execution_count": 4,
   "metadata": {},
   "outputs": [
    {
     "name": "stdout",
     "output_type": "stream",
     "text": [
      "average sequence length:\n",
      "62.80888639405847 120.75712465995942\n",
      "max sequence length:\n",
      "118 217\n"
     ]
    }
   ],
   "source": [
    "print(\"average sequence length:\")\n",
    "new_seq_len = np.array(new_grammar['seq_len'])\n",
    "old_seq_len = np.array(old_grammar['seq_len'])[new_indices]\n",
    "print(new_seq_len.mean(), old_seq_len.mean())\n",
    "print(\"max sequence length:\")\n",
    "print(new_seq_len.max(), old_seq_len.max())"
   ]
  },
  {
   "cell_type": "code",
   "execution_count": 5,
   "metadata": {},
   "outputs": [],
   "source": [
    "fname = '../data/250k_rndm_zinc_drugs_clean.smi'\n",
    "\n",
    "with open(fname) as f:\n",
    "    smiles = f.readlines()\n",
    "\n",
    "for i in range(len(smiles)):\n",
    "    smiles[i] = smiles[i].strip()\n",
    "    \n",
    "new_smiles = [smiles[i] for i in new_indices]"
   ]
  },
  {
   "cell_type": "code",
   "execution_count": 6,
   "metadata": {},
   "outputs": [],
   "source": [
    "from rdkit.Chem.rdmolfiles import MolFromSmiles\n",
    "def num_atoms_from_smiles(smiles):\n",
    "    mols = [MolFromSmiles(s) for s in smiles]\n",
    "    return np.array([len(m.GetAtoms()) if m is not None else 0 for m in mols])\n",
    "num_atoms = num_atoms_from_smiles(new_smiles)"
   ]
  },
  {
   "cell_type": "code",
   "execution_count": 9,
   "metadata": {},
   "outputs": [
    {
     "name": "stdout",
     "output_type": "stream",
     "text": [
      "Rules per atom: 5.465792302346296 2.8506458596327025\n"
     ]
    }
   ],
   "source": [
    "new_rules_per_atom = (new_seq_len/num_atoms)[num_atoms>0].mean()\n",
    "old_rules_per_atom = (old_seq_len/num_atoms)[num_atoms>0].mean()\n",
    "print('Rules per atom:', old_rules_per_atom, new_rules_per_atom)"
   ]
  }
 ],
 "metadata": {
  "kernelspec": {
   "display_name": "Python [conda root]",
   "language": "python",
   "name": "conda-root-py"
  },
  "language_info": {
   "codemirror_mode": {
    "name": "ipython",
    "version": 3
   },
   "file_extension": ".py",
   "mimetype": "text/x-python",
   "name": "python",
   "nbconvert_exporter": "python",
   "pygments_lexer": "ipython3",
   "version": "3.6.5"
  }
 },
 "nbformat": 4,
 "nbformat_minor": 2
}
