{
 "cells": [
  {
   "cell_type": "code",
   "execution_count": 1,
   "metadata": {},
   "outputs": [
    {
     "name": "stderr",
     "output_type": "stream",
     "text": [
      "C:\\ProgramData\\Anaconda3\\lib\\site-packages\\h5py\\__init__.py:36: FutureWarning: Conversion of the second argument of issubdtype from `float` to `np.floating` is deprecated. In future, it will be treated as `np.float64 == np.dtype(float).type`.\n",
      "  from ._conv import register_converters as _register_converters\n"
     ]
    }
   ],
   "source": [
    "import rdkit\n",
    "from rdkit.Chem import Descriptors\n",
    "import h5py\n",
    "import numpy as np"
   ]
  },
  {
   "cell_type": "code",
   "execution_count": 2,
   "metadata": {},
   "outputs": [],
   "source": [
    "data_dir = \"../data/\"\n",
    "old_grammar = h5py.File(data_dir + \"zinc_grammar_dataset.h5\")\n",
    "new_grammar = h5py.File(data_dir + \"zinc_grammar_dataset_new.h5\")"
   ]
  },
  {
   "cell_type": "code",
   "execution_count": 3,
   "metadata": {},
   "outputs": [
    {
     "name": "stdout",
     "output_type": "stream",
     "text": [
      "number of molecules new vs old: 92636 249456 0.37135206208710153\n"
     ]
    }
   ],
   "source": [
    "new_indices = np.array(new_grammar['indices'])\n",
    "oldlen =  len(old_grammar['indices'])\n",
    "\n",
    "print('number of molecules new vs old:',len(new_indices),oldlen, len(new_indices)/oldlen)"
   ]
  },
  {
   "cell_type": "code",
   "execution_count": 4,
   "metadata": {},
   "outputs": [
    {
     "name": "stdout",
     "output_type": "stream",
     "text": [
      "average sequence length:\n",
      "62.80888639405847 120.75712465995942\n",
      "max sequence length:\n",
      "118 217\n"
     ]
    }
   ],
   "source": [
    "print(\"average sequence length:\")\n",
    "new_seq_len = np.array(new_grammar['seq_len'])\n",
    "old_seq_len = np.array(old_grammar['seq_len'])[new_indices]\n",
    "print(new_seq_len.mean(), old_seq_len.mean())\n",
    "print(\"max sequence length:\")\n",
    "print(new_seq_len.max(), old_seq_len.max())"
   ]
  },
  {
   "cell_type": "code",
   "execution_count": 5,
   "metadata": {},
   "outputs": [],
   "source": [
    "fname = '../data/250k_rndm_zinc_drugs_clean.smi'\n",
    "\n",
    "with open(fname) as f:\n",
    "    smiles = f.readlines()\n",
    "\n",
    "for i in range(len(smiles)):\n",
    "    smiles[i] = smiles[i].strip()\n",
    "    \n",
    "new_smiles = [smiles[i] for i in new_indices]"
   ]
  },
  {
   "cell_type": "code",
   "execution_count": 6,
   "metadata": {},
   "outputs": [],
   "source": [
    "from rdkit.Chem.rdmolfiles import MolFromSmiles\n",
    "def num_atoms_from_smiles(smiles):\n",
    "    mols = [MolFromSmiles(s) for s in smiles]\n",
    "    atoms = np.array([len(m.GetAtoms()) if m is not None else 0 for m in mols])\n",
    "    return atoms\n",
    "num_atoms = num_atoms_from_smiles(new_smiles)"
   ]
  },
  {
   "cell_type": "code",
   "execution_count": 7,
   "metadata": {},
   "outputs": [],
   "source": [
    "def num_rings_from_smiles(smiles):\n",
    "    mols = [MolFromSmiles(s) for s in smiles]\n",
    "    rings = np.array([Descriptors.NumAromaticRings(m) if m is not None else -1 for m in mols])\n",
    "    return rings\n",
    "                     \n",
    "num_rings = num_rings_from_smiles(smiles)"
   ]
  },
  {
   "cell_type": "code",
   "execution_count": 8,
   "metadata": {},
   "outputs": [
    {
     "name": "stdout",
     "output_type": "stream",
     "text": [
      "Aromatic rings avg: 1.849817202232057 std: 0.9694758341086602 max: 6\n"
     ]
    }
   ],
   "source": [
    "print('Aromatic rings avg:', num_rings.mean(), 'std:', num_rings.std(), 'max:', num_rings.max())"
   ]
  },
  {
   "cell_type": "code",
   "execution_count": 9,
   "metadata": {},
   "outputs": [
    {
     "name": "stdout",
     "output_type": "stream",
     "text": [
      "Rules per atom: 5.465792302346296 2.8506458596327025\n"
     ]
    }
   ],
   "source": [
    "new_rules_per_atom = (new_seq_len/num_atoms)[num_atoms>0].mean()\n",
    "old_rules_per_atom = (old_seq_len/num_atoms)[num_atoms>0].mean()\n",
    "print('Rules per atom:', old_rules_per_atom, new_rules_per_atom)"
   ]
  },
  {
   "cell_type": "code",
   "execution_count": 10,
   "metadata": {},
   "outputs": [
    {
     "name": "stdout",
     "output_type": "stream",
     "text": [
      "[ 2.48656181 -2.82021593 -0.02578911] [1.36771965 0.77092568 0.18803626] (92636, 3)\n",
      "(92636,) 4.054522235013009 -72.4191860195049 2.069284802145453\n"
     ]
    }
   ],
   "source": [
    "scores_mean = np.array(new_grammar['score_mean'])\n",
    "scores_std = np.array(new_grammar['score_std'])\n",
    "raw_scores = np.array(new_grammar['raw_scores'])\n",
    "print(scores_mean,scores_std,raw_scores.shape)\n",
    "norm_scores = (raw_scores -scores_mean)/scores_std\n",
    "norm_score = norm_scores.sum(1)\n",
    "print(norm_score.shape, norm_score.max(), norm_score.min(), norm_score.std())"
   ]
  },
  {
   "cell_type": "code",
   "execution_count": 11,
   "metadata": {},
   "outputs": [
    {
     "name": "stdout",
     "output_type": "stream",
     "text": [
      "Raw SA mean, std -2.8202159253872527 0.7709256786567037\n"
     ]
    }
   ],
   "source": [
    "print('Raw SA mean, std', raw_scores[:,1].mean(), raw_scores[:,1].std())"
   ]
  },
  {
   "cell_type": "code",
   "execution_count": 15,
   "metadata": {},
   "outputs": [
    {
     "name": "stdout",
     "output_type": "stream",
     "text": [
      "25 26\n"
     ]
    }
   ],
   "source": [
    "a = 5*5\n",
    "b = a+1\n",
    "print(a,b)"
   ]
  }
 ],
 "metadata": {
  "kernelspec": {
   "display_name": "Python [conda root]",
   "language": "python",
   "name": "conda-root-py"
  },
  "language_info": {
   "codemirror_mode": {
    "name": "ipython",
    "version": 3
   },
   "file_extension": ".py",
   "mimetype": "text/x-python",
   "name": "python",
   "nbconvert_exporter": "python",
   "pygments_lexer": "ipython3",
   "version": "3.6.5"
  }
 },
 "nbformat": 4,
 "nbformat_minor": 2
}
