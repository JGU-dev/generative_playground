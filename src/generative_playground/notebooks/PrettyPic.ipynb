{
 "cells": [
  {
   "cell_type": "code",
   "execution_count": 1,
   "metadata": {},
   "outputs": [],
   "source": [
    "import sys\n",
    "sys.path.append('../..')\n",
    "sys.path.append('../../../../transformer_pytorch')\n",
    "%load_ext autoreload\n",
    "%autoreload 2"
   ]
  },
  {
   "cell_type": "code",
   "execution_count": 14,
   "metadata": {},
   "outputs": [
    {
     "data": {
      "image/png": "[encoded data removed]",
      "text/plain": [
       "<PIL.Image.Image image mode=RGB size=300x300 at 0x22C83C50860>"
      ]
     },
     "execution_count": 14,
     "metadata": {},
     "output_type": "execute_result"
    }
   ],
   "source": [
    "\n",
    "from rdkit import Chem\n",
    "from rdkit.Chem import AllChem, Descriptors\n",
    "from rdkit.Chem.Draw import MolToImage, MolToFile, _moltoSVG, MolsToGridImage\n",
    "\n",
    "smile1 = 'c1nnn(nnn2)c2c1'\n",
    "smile7 = 'c1cnnc2n1ncc2'\n",
    "smile6 = 'c1cncc2n1ccc2'\n",
    "smile2='OC(=O)O'\n",
    "smile3 ='c1cccc1'\n",
    "smile4 = 'C(=C=Nc1c(c2c(OOI)cncn2)nc(Br)c2n1c(I)c(OO)c2)'\n",
    "smile5 = 'C(OS(=O)(=O))C1SNC(c2c(I)c(NN=O)c(c3cc(F)ccc3C#C)cc2Cl)C(=Nc2nc(S(=O)(=O))c(c3nc(C(c4c(C#N)nnc5n4nnn5)F)nc4n3cnc4c3cnncc3N=C(S)c3c(F)cnc(I)n3)c3n2cnn3)N(SI)NC(F)O1'\n",
    "smile8 = 'Oc1cc(O)oc1'\n",
    "smile9 ='Clc1c(c2cnc([C@@][C@@]c3nnc([C@@H]CCS(=O)(=O))c4n3c(c3cnc()c5n3c([C@@]([C@@]([C@@][C@])))cn5)cn4)c3n2nnn3)nnc2n1nnn2'#'[O-]c1nc(O)cc1[C@@][C@]-c1cscc1'\n",
    "smile9 = 'c5c(c6cnncc6)n(O)nn5'\n",
    "smile10 ='C/C(O)=C(S)/S'\n",
    "smile11 ='CC(=O)Nc1cccc(c2cc(NC(=O)Nc3cc(c4cc(F)ccc4)ccc3)ccc2)c1'\n",
    "kusner1 ='CCCc1ccc(I)cc1C1CCC-c1'\n",
    "kusner2 ='CC(C)CCCCCc1ccc(Cl)nc1'\n",
    "kusner3 ='CCCc1ccc(Cl)cc1CCCCOC'\n",
    "mol = Chem.MolFromSmiles(kusner3)\n",
    "\n",
    "MolToImage(mol, kekulize=False)"
   ]
  },
  {
   "cell_type": "code",
   "execution_count": 15,
   "metadata": {},
   "outputs": [
    {
     "data": {
      "text/plain": [
       "[2.353205370805517, 2.7977435486158133]"
      ]
     },
     "execution_count": 15,
     "metadata": {},
     "output_type": "execute_result"
    }
   ],
   "source": [
    "import numpy as np\n",
    "from generative_playground.rdkit_utils.rdkit_utils import num_atoms, num_aromatic_rings, num_aliphatic_rings, NormalizedScorer\n",
    "scorer = NormalizedScorer()\n",
    "[np.sum(x) for x in scorer.get_scores([kusner3])]"
   ]
  },
  {
   "cell_type": "code",
   "execution_count": null,
   "metadata": {},
   "outputs": [],
   "source": [
    "MolToFile(mol, 'test.svg', imageType='svg')"
   ]
  },
  {
   "cell_type": "code",
   "execution_count": null,
   "metadata": {
    "scrolled": true
   },
   "outputs": [],
   "source": [
    "from generative_playground.models.model_settings import get_decoder, get_settings\n",
    "\n",
    "max_len = 40\n",
    "settings = get_settings(True, 'new')\n",
    "\n",
    "# Now let's run a random model with a grammar\n",
    "model, _ = get_decoder(True,\n",
    "                    'new',\n",
    "                    feature_len=settings['feature_len'],\n",
    "                    max_seq_length=max_len,\n",
    "                    decoder_type='random',\n",
    "                   batch_size=9)\n"
   ]
  },
  {
   "cell_type": "code",
   "execution_count": null,
   "metadata": {},
   "outputs": [],
   "source": [
    "from generative_playground.codec.grammar_codec import GrammarModel\n",
    "settings = get_settings(True, 'new')\n",
    "codec = GrammarModel(grammar=settings['grammar'],\n",
    "                    tokenizer=settings['tokenizer'])\n",
    "actions = model()[0].detach().cpu().numpy()\n",
    "#print(actions, settings['feature_len'])\n",
    "my_smiles = codec.decode_from_actions(actions)\n",
    "print(my_smiles)\n",
    "\n",
    "mols = [Chem.MolFromSmiles(my_smile) for my_smile in my_smiles]\n",
    "print([Descriptors.NumAromaticRings(m) for m in mols if m is not None])\n",
    "MolsToGridImage(mols, kekulize=False)"
   ]
  },
  {
   "cell_type": "code",
   "execution_count": null,
   "metadata": {},
   "outputs": [],
   "source": [
    "#my_smiles.append'c1ccncn1']\n",
    "\n",
    "def parse(x):\n",
    "    # print(x)\n",
    "    try:\n",
    "        return next(codec._parser.parse(x))\n",
    "    except Exception as e:\n",
    "#         print('fail!')\n",
    "#         print(e)\n",
    "        return None\n",
    "    \n",
    "tokens = [codec._tokenize(s) for s in my_smiles]\n",
    "parse_trees = [parse(t) for t in tokens]\n",
    "print(parse_trees, len(parse_trees))\n"
   ]
  },
  {
   "cell_type": "code",
   "execution_count": null,
   "metadata": {},
   "outputs": [],
   "source": [
    "fname = '../data/250k_rndm_zinc_drugs_clean.smi'\n",
    "\n",
    "with open(fname) as f:\n",
    "    smiles = f.readlines()\n",
    "\n",
    "for i in range(len(smiles)):\n",
    "    smiles[i] = smiles[i].strip()\n"
   ]
  },
  {
   "cell_type": "code",
   "execution_count": null,
   "metadata": {},
   "outputs": [],
   "source": [
    "tokens = [codec._tokenize(s) for s in smiles[:1000]]\n",
    "parse_trees = [parse(t) for t in tokens]\n",
    "nice = [ip for ip, p in enumerate(parse_trees) if p is not None]\n",
    "print(len(nice), nice)"
   ]
  },
  {
   "cell_type": "code",
   "execution_count": null,
   "metadata": {},
   "outputs": [],
   "source": [
    "i = 3"
   ]
  },
  {
   "cell_type": "code",
   "execution_count": null,
   "metadata": {},
   "outputs": [],
   "source": [
    "# C[C@@H]1CC(Nc2cncc(-c3nncn3C)c2)C[C@@H](C)C1\n",
    "#N#Cc1ccc(-c2ccc(O[C@@H](C(=O)N3CCCC3)c3ccccc3)cc2)cc1\n",
    "#C[C@@H]1CC(Nc2cncc(-c3nncn3C)c2)C[C@@H](C)C1\n",
    "#smile = 'Nc2cncc(-c3nncn3C)c2'\n",
    "smile =  smiles[i]\n",
    "smile = 'C1CNCCC1'\n",
    "print(i, smile)\n",
    "mol = Chem.MolFromSmiles(smile)\n",
    "parse_tree = parse(codec._tokenize(smile))\n",
    "if parse_tree is None:\n",
    "    print('fail!')\n",
    "\n",
    "\n",
    "MolToImage(mol, kekulize=False)\n"
   ]
  },
  {
   "cell_type": "code",
   "execution_count": null,
   "metadata": {},
   "outputs": [],
   "source": [
    "# i+=1\n",
    "# my_smile =smiles[i]\n",
    "# mols = [Chem.MolFromSmiles(my_smile)]\n",
    "# print(i, my_smile, [Descriptors.NumAromaticRings(m) for m in mols])\n",
    "# MolsToGridImage(mols, kekulize=False)\n"
   ]
  },
  {
   "cell_type": "code",
   "execution_count": null,
   "metadata": {},
   "outputs": [],
   "source": [
    "\n",
    "# from generative_playground.models import grammar_ed_models as grammar_model\n",
    "\n",
    "# # We load the auto-encoder\n",
    "# grammar_weights = '../pretrained/my_molecules.mdl'\n",
    "# grammar_model = grammar_model.ZincGrammarModel(grammar_weights)\n",
    "# z = grammar_model.encode(['c1nccc2n1ccc2'])\n",
    "# new_smile = grammar_model.decode(z)"
   ]
  }
 ],
 "metadata": {
  "kernelspec": {
   "display_name": "Python [default]",
   "language": "python",
   "name": "python3"
  },
  "language_info": {
   "codemirror_mode": {
    "name": "ipython",
    "version": 3
   },
   "file_extension": ".py",
   "mimetype": "text/x-python",
   "name": "python",
   "nbconvert_exporter": "python",
   "pygments_lexer": "ipython3",
   "version": "3.6.5"
  }
 },
 "nbformat": 4,
 "nbformat_minor": 2
}
