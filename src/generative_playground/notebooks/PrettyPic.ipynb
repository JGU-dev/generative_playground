{
 "cells": [
  {
   "cell_type": "code",
   "execution_count": 1,
   "metadata": {},
   "outputs": [],
   "source": [
    "import sys\n",
    "sys.path.append('../..')\n",
    "sys.path.append('../../../../transformer_pytorch')\n",
    "%load_ext autoreload\n",
    "%autoreload 2"
   ]
  },
  {
   "cell_type": "code",
   "execution_count": 14,
   "metadata": {},
   "outputs": [
    {
     "data": {
      "image/png": "[encoded data removed]",
      "text/plain": [
       "<PIL.Image.Image image mode=RGB size=300x300 at 0x183B8E4C320>"
      ]
     },
     "execution_count": 14,
     "metadata": {},
     "output_type": "execute_result"
    }
   ],
   "source": [
    "\n",
    "from rdkit import Chem\n",
    "from rdkit.Chem import AllChem, Descriptors\n",
    "from rdkit.Chem.Draw import MolToImage, MolToFile, _moltoSVG, MolsToGridImage\n",
    "\n",
    "smile1 = 'c1nnn(nnn2)c2c1'\n",
    "smile7 = 'c1cnnc2n1ncc2'\n",
    "smile6 = 'c1c(Cl)ccc2c1cc(C(=O)C)c(C(=O)Nc3cc(NC(=O)Nc4cc(c5ccccc5(C))ccc4)ccc3)c2'\n",
    "smile2='OC(=O)O'\n",
    "smile3 ='c1cccc1'\n",
    "smile4 = 'C(=C=Nc1c(c2c(OOI)cncn2)nc(Br)c2n1c(I)c(OO)c2)'\n",
    "smile5 = 'C(OS(=O)(=O))C1SNC(c2c(I)c(NN=O)c(c3cc(F)ccc3C#C)cc2Cl)C(=Nc2nc(S(=O)(=O))c(c3nc(C(c4c(C#N)nnc5n4nnn5)F)nc4n3cnc4c3cnncc3N=C(S)c3c(F)cnc(I)n3)c3n2cnn3)N(SI)NC(F)O1'\n",
    "smile8 = 'Oc1cc(O)oc1'\n",
    "smile9 ='Clc1c(c2cnc([C@@][C@@]c3nnc([C@@H]CCS(=O)(=O))c4n3c(c3cnc()c5n3c([C@@]([C@@]([C@@][C@])))cn5)cn4)c3n2nnn3)nnc2n1nnn2'#'[O-]c1nc(O)cc1[C@@][C@]-c1cscc1'\n",
    "smile9 = 'c5c(c6cnncc6)n(O)nn5'\n",
    "smile10 ='C/C(O)=C(S)/S'\n",
    "smile11 ='C(=O)NH(c3cc(NC(=O)Nc4cc(c5cc(F)ccc5)ccc4)ccc3)'\n",
    "kusner1 ='CCCc1ccc(I)cc1C1CCC-c1'\n",
    "kusner2 ='CC(C)CCCCCc1ccc(Cl)nc1'\n",
    "kusner3 ='CCCc1ccc(Cl)cc1CCCCOC'\n",
    "mol_bad ='c1nc(S(=O)(=O)[N+](=[C@H][C@H](N2[NH+]=[C@H][C@H](S(=O)(=O)N=[C@H][NH+]=N3)[C@H]3[C@H]2)[C@H]([C@@][C@@](S(=O)(=O))([C@H]([C@@](=O)S[C@](c2c([N+](=NN=[C@@H][C@@H]=[C@H][C@@]3(=[NH+]))[C@@]3(S(=O)(=O)[C@@](#C))[C@@](=[NH+][C@H]=[C@H]S(=O)(=O)[C@@H]=[C@H][C@@]3(=[NH+]Br))[C@]3)c([C@]([C@@](=[N+](c3ccn([C@]4(N([NH+]=[C@H][N+]([NH3+])=[NH+][C@@](=[C@H]S(=O)(=O)[N+](C(N[NH+]=NO3)=[C@@]3[C@@H]=[C@H]3)=[C@]3O3)[C@@H]3S3(=O)(=O))[NH+]3[C@@H]=[C@H]4)/[C@@H]=N\\S)n3)N=[C@@H]S4(=O)(=O))[C@H]4Br)S(=O)(=O)S(=O)(=O)S4)c4cc2)=[C@H]2)[C@@H]2SO2)N2O2)[C@@H]2S2)[C@@H]2S2(=O)(=O))c2o1'\n",
    "mol_bad ='c1nc([N+](=[C@H]([C@@][C@@]([C@H]([C@@](=O)S[C@](c2c([N+]([C@@](#C))[C@@])c([C@]([C@@](=[N+](c3ccn([C@]4(N([NH+]=[C@H][N+]=[NH+][C@@](=[C@H][N+](C(N[NH+]=NO3)=[C@@]3[C@@H]=[C@H]3)=[C@]3O3)[C@@H]3S3(=O)(=O))[NH+]3[C@@H]=[C@H]4)/[C@@H]=N\\S)n3)N=[C@@H]S4(=O)(=O))[C@H]4Br)S4)c4cc2)=[C@H]2)[C@@H]2SO2)N2O2)[C@@H]2S2)[C@@H]2S2(=O)(=O))c2o1'\n",
    "\n",
    "mol = Chem.MolFromSmiles(smile6)\n",
    "\n",
    "MolToImage(mol, kekulize=False)"
   ]
  },
  {
   "cell_type": "code",
   "execution_count": 3,
   "metadata": {
    "scrolled": false
   },
   "outputs": [
    {
     "name": "stderr",
     "output_type": "stream",
     "text": [
      "C:\\ProgramData\\Anaconda3\\lib\\site-packages\\h5py\\__init__.py:36: FutureWarning: Conversion of the second argument of issubdtype from `float` to `np.floating` is deprecated. In future, it will be treated as `np.float64 == np.dtype(float).type`.\n",
      "  from ._conv import register_converters as _register_converters\n"
     ]
    },
    {
     "name": "stdout",
     "output_type": "stream",
     "text": [
      "\n",
      "smiles -> nonH_bond\n",
      "smiles -> initial_valence_1 bond\n",
      "smiles -> initial_valence_2 double_bond\n",
      "smiles -> initial_valence_3 triple_bond\n",
      "initial_valence_1 -> 'F'\n",
      "initial_valence_1 -> 'Cl'\n",
      "initial_valence_1 -> 'Br'\n",
      "initial_valence_1 -> 'I'\n",
      "initial_valence_1 -> '[' 'O' '-' ']'\n",
      "initial_valence_1 -> '[' 'N' 'H' '3' '+' ']'\n",
      "initial_valence_2 -> 'O'\n",
      "initial_valence_2 -> 'S'\n",
      "initial_valence_3 -> '[' 'C' '@' 'H' ']'\n",
      "initial_valence_3 -> '[' 'C' '@' '@' 'H' ']'\n",
      "initial_valence_3 -> 'N'\n",
      "initial_valence_3 -> '[' 'N' 'H' '+' ']'\n",
      "bond -> 'h'\n",
      "bond -> nonH_bond\n",
      "branch -> 'h'\n",
      "branch -> '(' nonH_bond ')'\n",
      "nonH_bond -> valence_1\n",
      "nonH_bond -> valence_2 bond\n",
      "nonH_bond -> valence_3 double_bond\n",
      "nonH_bond -> valence_4 triple_bond\n",
      "double_bond -> '=' valence_2\n",
      "double_bond -> '=' valence_3 bond\n",
      "double_bond -> '=' valence_4 double_bond\n",
      "triple_bond -> '#' valence_3 \n",
      "triple_bond -> '#' valence_4 bond\n",
      "valence_4 -> 'C'\n",
      "valence_4 -> '[' 'C' '@' ']'\n",
      "valence_4 -> '[' 'C' '@' '@' ']'\n",
      "valence_4 -> '[' 'N' '+' ']'\n",
      "valence_3 -> '[' 'C' '@' 'H' ']'\n",
      "valence_3 -> '[' 'C' '@' '@' 'H' ']'\n",
      "valence_3 -> 'N'\n",
      "valence_3 -> '[' 'N' 'H' '+' ']'\n",
      "valence_3 -> valence_4 branch\n",
      "valence_2 -> 'O'\n",
      "valence_2 -> 'S'\n",
      "valence_2 -> 'S' '(' '=' 'O' ')'  '(' '=' 'O' ')'\n",
      "valence_2 -> valence_3 branch\n",
      "valence_2 -> valence_4 '(' double_bond ')'\n",
      "valence_1 -> 'F'\n",
      "valence_1 -> 'Cl'\n",
      "valence_1 -> 'Br'\n",
      "valence_1 -> 'I'\n",
      "valence_1 -> '[' 'O' '-' ']'\n",
      "valence_1 -> '[' 'N' 'H' '3' '+' ']'\n",
      "valence_1 -> valence_2  branch\n",
      "valence_1 -> valence_3 '(' double_bond ')'\n",
      "valence_1 -> valence_4 '(' triple_bond ')'\n",
      "nonH_bond -> valence_2 slash valence_3 '=' valence_3 slash valence_2\n",
      "slash -> '/'\n",
      "slash -> '\\'\n",
      "nonH_bond -> aliphatic_ring\n",
      "aliphatic_ring -> valence_3_num cycle_bond\n",
      "aliphatic_ring -> valence_4_num cycle_double_bond\n",
      "valence_2 -> vertex_attached_ring\n",
      "vertex_attached_ring -> valence_4_num '(' cycle_bond ')'\n",
      "cycle_bond -> valence_2 cycle_bond\n",
      "cycle_bond -> valence_3 cycle_double_bond\n",
      "cycle_double_bond -> '=' valence_3 cycle_bond\n",
      "cycle_bond -> valence_2_num\n",
      "cycle_double_bond -> '=' valence_3_num\n",
      "nonH_bond -> aliphatic_ring_segment bond\n",
      "cycle_bond -> aliphatic_ring_segment cycle_bond\n",
      "aliphatic_ring_segment -> valence_3 '(' cycle_bond ')' valence_3_num\n",
      "aliphatic_ring_segment -> valence_4 '(' cycle_bond ')' '=' valence_4_num\n",
      "aliphatic_ring_segment -> valence_4 '(' cycle_double_bond ')' valence_3_num\n",
      "nonH_bond -> aromatic_ring_5\n",
      "nonH_bond -> aromatic_ring_6\n",
      "starting_aromatic_c_num -> 'c' num\n",
      "aromatic_atom -> 'n' \n",
      "aromatic_atom -> 'c' branch \n",
      "aromatic_os -> 'o'\n",
      "aromatic_os -> 's'\n",
      "aromatic_os -> 'n' '(' nonH_bond ')'\n",
      "aromatic_os -> '[' 'n' 'H' ']'\n",
      "aromatic_atom_num -> 'n' num\n",
      "aromatic_atom_num -> 'c' num bond\n",
      "aromatic_os_num -> 'o' num\n",
      "aromatic_os_num -> 's' num\n",
      "aromatic_os_num -> 'n' num nonH_bond\n",
      "nonH_bond -> double_aromatic_ring\n",
      "double_aromatic_ring -> 'c' num1 aromatic_atom aromatic_atom aromatic_atom 'c' num 'c' num1 aromatic_atom aromatic_atom aromatic_atom aromatic_atom_num\n",
      "double_aromatic_ring -> 'c' num1 aromatic_atom aromatic_atom aromatic_atom 'c' num 'n' num1 aromatic_atom aromatic_atom aromatic_atom_num\n",
      "double_aromatic_ring -> 'c' num1 aromatic_atom aromatic_atom aromatic_atom 'n' num 'c' num1 aromatic_atom aromatic_atom aromatic_atom_num\n",
      "aromatic_ring_6 -> starting_aromatic_c_num aromatic_atom full_aromatic_segment aromatic_atom aromatic_atom_num\n",
      "aromatic_ring_6 -> starting_aromatic_c_num full_aromatic_segment full_aromatic_segment aromatic_atom_num\n",
      "aromatic_ring_5 -> starting_aromatic_c_num aromatic_os full_aromatic_segment  aromatic_atom_num\n",
      "aromatic_ring_5 -> starting_aromatic_c_num aromatic_atom aromatic_os aromatic_atom aromatic_atom_num\n",
      "aromatic_ring_5 -> starting_aromatic_c_num full_aromatic_segment aromatic_os aromatic_atom_num\n",
      "aromatic_ring_5 -> starting_aromatic_c_num full_aromatic_segment aromatic_atom aromatic_os_num\n",
      "aromatic_ring_5 -> starting_aromatic_c_num aromatic_atom full_aromatic_segment aromatic_os_num\n",
      "full_aromatic_segment -> aromatic_atom aromatic_atom\n",
      "aromatic_os -> side_aliphatic_ring\n",
      "side_aliphatic_ring -> 'c' num '(' cycle_bond ')'\n",
      "full_aromatic_segment -> side_aliphatic_ring_segment\n",
      "side_aliphatic_ring_segment -> 'c' num 'c' '(' cycle_bond ')'\n",
      "side_aliphatic_ring_segment -> 'c' '(' cycle_bond ')' 'c' num\n",
      "\n",
      "valence_4_num -> 'C' num\n",
      "valence_4_num -> '[' 'C' '@' ']' num\n",
      "valence_4_num -> '[' 'C' '@' '@' ']' num\n",
      "valence_4_num -> '[' 'N' '+' ']' num\n",
      "valence_3_num -> '[' 'C' '@' 'H' ']' num\n",
      "valence_3_num -> '[' 'C' '@' '@' 'H' ']' num\n",
      "valence_3_num -> 'N' num\n",
      "valence_3_num -> '[' 'N' 'H' '+' ']' num\n",
      "valence_3_num -> valence_4_num branch\n",
      "valence_2_num -> 'O' num\n",
      "valence_2_num -> 'S' num\n",
      "valence_2_num -> 'S' num '(' '=' 'O' ')'  '(' '=' 'O' ')'\n",
      "valence_2_num -> valence_3_num branch\n",
      "valence_2_num -> valence_4_num '(' double_bond ')'\n",
      "\n",
      "******************\n"
     ]
    },
    {
     "data": {
      "text/plain": [
       "[2.353205370805517, 2.7977435486158133]"
      ]
     },
     "execution_count": 3,
     "metadata": {},
     "output_type": "execute_result"
    }
   ],
   "source": [
    "import numpy as np\n",
    "from generative_playground.rdkit_utils.rdkit_utils import num_atoms, num_aromatic_rings, num_aliphatic_rings, NormalizedScorer\n",
    "scorer = NormalizedScorer()\n",
    "[np.sum(x) for x in scorer.get_scores([kusner3])]"
   ]
  },
  {
   "cell_type": "code",
   "execution_count": 4,
   "metadata": {},
   "outputs": [],
   "source": [
    "MolToFile(mol, 'test.svg', imageType='svg')"
   ]
  },
  {
   "cell_type": "code",
   "execution_count": 4,
   "metadata": {
    "scrolled": true
   },
   "outputs": [
    {
     "name": "stdout",
     "output_type": "stream",
     "text": [
      "added  {'token': nonH_bond} from <frozendict {'token': smiles}> via smiles -> nonH_bond\n",
      "added  {'token': initial_valence_1} from <frozendict {'token': smiles}> via smiles -> initial_valence_1\n",
      "added  {'token': initial_valence_2} from <frozendict {'token': smiles}> via smiles -> initial_valence_2 double_bond\n",
      "added  {'token': double_bond} from <frozendict {'token': smiles}> via smiles -> initial_valence_2 double_bond\n",
      "added  {'token': initial_valence_3} from <frozendict {'token': smiles}> via smiles -> initial_valence_3 triple_bond\n",
      "added  {'token': triple_bond} from <frozendict {'token': smiles}> via smiles -> initial_valence_3 triple_bond\n",
      "added  {'token': valence_1} from <frozendict {'token': nonH_bond}> via nonH_bond -> valence_1\n",
      "added  {'token': valence_2} from <frozendict {'token': nonH_bond}> via nonH_bond -> valence_2\n",
      "added  {'token': valence_3} from <frozendict {'token': nonH_bond}> via nonH_bond -> valence_3 double_bond\n",
      "added  {'token': valence_4} from <frozendict {'token': nonH_bond}> via nonH_bond -> valence_4 triple_bond\n",
      "added  {'token': slash} from <frozendict {'token': nonH_bond}> via nonH_bond -> valence_2 slash valence_3 '=' valence_3 slash valence_2\n",
      "added  {'token': aliphatic_ring} from <frozendict {'token': nonH_bond}> via nonH_bond -> aliphatic_ring\n",
      "added  {'token': aliphatic_ring_segment} from <frozendict {'token': nonH_bond}> via nonH_bond -> aliphatic_ring_segment\n",
      "added  {'token': aromatic_ring_5} from <frozendict {'token': nonH_bond}> via nonH_bond -> aromatic_ring_5\n",
      "added  {'token': aromatic_ring_6} from <frozendict {'token': nonH_bond}> via nonH_bond -> aromatic_ring_6\n",
      "added  {'token': double_aromatic_ring} from <frozendict {'token': nonH_bond}> via nonH_bond -> double_aromatic_ring\n",
      "improving: initial_valence_1 -> 'F' inf 1 [0]\n",
      "improving: initial_valence_2 -> 'O' inf 1 [0]\n",
      "improving: initial_valence_3 -> '[' 'C' '@' 'H' ']' inf 1 [0, 0, 0, 0, 0]\n",
      "improving: smiles -> initial_valence_1 inf 2 [1]\n",
      "improving: valence_1 -> 'F' inf 1 [0]\n",
      "improving: valence_2 -> 'O' inf 1 [0]\n",
      "added  {'token': vertex_attached_ring} from <frozendict {'token': valence_2}> via valence_2 -> vertex_attached_ring\n",
      "improving: valence_3 -> '[' 'C' '@' 'H' ']' inf 1 [0, 0, 0, 0, 0]\n",
      "improving: valence_4 -> 'C' inf 1 [0]\n",
      "improving: slash -> '/' inf 1 [0]\n",
      "added  {'token': valence_3_num, 'size': 1, 'num': None} from <frozendict {'token': aliphatic_ring}> via aliphatic_ring -> valence_3_num cycle_bond\n",
      "added  {'token': cycle_bond, 'size': 1, 'num': None} from <frozendict {'token': aliphatic_ring}> via aliphatic_ring -> valence_3_num cycle_bond\n",
      "added  {'token': valence_4_num, 'size': 1, 'num': None} from <frozendict {'token': aliphatic_ring}> via aliphatic_ring -> valence_4_num cycle_double_bond\n",
      "added  {'token': cycle_double_bond, 'size': 1, 'num': None} from <frozendict {'token': aliphatic_ring}> via aliphatic_ring -> valence_4_num cycle_double_bond\n",
      "added  {'token': starting_aromatic_c_num, 'size': 1, 'num': None} from <frozendict {'token': aromatic_ring_5}> via aromatic_ring_5 -> starting_aromatic_c_num aromatic_os full_aromatic_segment aromatic_atom_num\n",
      "added  {'token': aromatic_os} from <frozendict {'token': aromatic_ring_5}> via aromatic_ring_5 -> starting_aromatic_c_num aromatic_os full_aromatic_segment aromatic_atom_num\n",
      "added  {'token': full_aromatic_segment} from <frozendict {'token': aromatic_ring_5}> via aromatic_ring_5 -> starting_aromatic_c_num aromatic_os full_aromatic_segment aromatic_atom_num\n",
      "added  {'token': aromatic_atom_num, 'size': 1, 'num': None} from <frozendict {'token': aromatic_ring_5}> via aromatic_ring_5 -> starting_aromatic_c_num aromatic_os full_aromatic_segment aromatic_atom_num\n",
      "added  {'token': aromatic_atom} from <frozendict {'token': aromatic_ring_5}> via aromatic_ring_5 -> starting_aromatic_c_num aromatic_atom aromatic_os aromatic_atom aromatic_atom_num\n",
      "added  {'token': aromatic_os_num, 'size': 1, 'num': None} from <frozendict {'token': aromatic_ring_5}> via aromatic_ring_5 -> starting_aromatic_c_num full_aromatic_segment aromatic_atom aromatic_os_num\n",
      "added  {'token': num1, 'size': 1, 'num': None} from <frozendict {'token': double_aromatic_ring}> via double_aromatic_ring -> 'c' num1 aromatic_atom aromatic_atom aromatic_atom 'c' num 'c' num1 aromatic_atom aromatic_atom aromatic_atom aromatic_atom_num\n",
      "added  {'token': num, 'size': 1, 'num': None} from <frozendict {'token': double_aromatic_ring}> via double_aromatic_ring -> 'c' num1 aromatic_atom aromatic_atom aromatic_atom 'c' num 'c' num1 aromatic_atom aromatic_atom aromatic_atom aromatic_atom_num\n",
      "improving: nonH_bond -> valence_1 inf 2 [1]\n",
      "improving: double_bond -> '=' valence_2 inf 2 [0, 1]\n",
      "improving: triple_bond -> '#' valence_3 inf 2 [0, 1]\n",
      "added  {'token': num, 'num': None, 'size': 2} from <frozendict {'token': valence_3_num, 'size': 1, 'num': None}> via valence_3_num -> '[' 'C' '@' 'H' ']' num\n",
      "added  {'token': valence_4_num, 'num': None, 'size': 2} from <frozendict {'token': valence_3_num, 'size': 1, 'num': None}> via valence_3_num -> valence_4_num\n",
      "added  {'token': cycle_bond, 'num': None, 'size': 2} from <frozendict {'token': cycle_bond, 'size': 1, 'num': None}> via cycle_bond -> valence_2 cycle_bond\n",
      "added  {'token': cycle_double_bond, 'num': None, 'size': 2} from <frozendict {'token': cycle_bond, 'size': 1, 'num': None}> via cycle_bond -> valence_3 cycle_double_bond\n",
      "added  {'token': cycle_bond, 'num': None, 'size': 3} from <frozendict {'token': cycle_bond, 'size': 1, 'num': None}> via cycle_bond -> aliphatic_ring_segment cycle_bond\n",
      "improving: aromatic_os -> 'o' inf 1 [0]\n",
      "added  {'token': side_aliphatic_ring} from <frozendict {'token': aromatic_os}> via aromatic_os -> side_aliphatic_ring\n",
      "added  {'token': side_aliphatic_ring_segment} from <frozendict {'token': full_aromatic_segment}> via full_aromatic_segment -> side_aliphatic_ring_segment\n",
      "improving: aromatic_atom -> 'n' inf 1 [0]\n",
      "improving: num1 -> '1' inf 1 [0]\n",
      "improving: num -> '1' inf 1 [0]\n",
      "improving: full_aromatic_segment -> aromatic_atom aromatic_atom inf 3 [1, 1]\n",
      "improving: num -> '1' inf 1 [0]\n",
      "added  {'token': num, 'num': None, 'size': 3} from <frozendict {'token': valence_4_num, 'num': None, 'size': 2}> via valence_4_num -> 'C' num\n",
      "added  {'token': cycle_double_bond, 'num': None, 'size': 3} from <frozendict {'token': cycle_bond, 'num': None, 'size': 2}> via cycle_bond -> valence_3 cycle_double_bond\n",
      "added  {'token': cycle_bond, 'num': None, 'size': 4} from <frozendict {'token': cycle_bond, 'num': None, 'size': 2}> via cycle_bond -> aliphatic_ring_segment cycle_bond\n",
      "added  {'token': cycle_double_bond, 'num': None, 'size': 4} from <frozendict {'token': cycle_bond, 'num': None, 'size': 3}> via cycle_bond -> valence_3 cycle_double_bond\n",
      "added  {'token': cycle_bond, 'num': None, 'size': 5} from <frozendict {'token': cycle_bond, 'num': None, 'size': 3}> via cycle_bond -> aliphatic_ring_segment cycle_bond\n",
      "improving: valence_3_num -> '[' 'C' '@' 'H' ']' num inf 2 [0, 0, 0, 0, 0, 1]\n",
      "improving: valence_4_num -> 'C' num inf 2 [0, 1]\n",
      "improving: starting_aromatic_c_num -> 'c' num inf 2 [0, 1]\n",
      "improving: aromatic_atom_num -> 'n' num inf 2 [0, 1]\n",
      "improving: aromatic_os_num -> 'o' num inf 2 [0, 1]\n",
      "improving: num -> '1' inf 1 [0]\n",
      "added  {'token': cycle_double_bond, 'num': None, 'size': 5} from <frozendict {'token': cycle_bond, 'num': None, 'size': 4}> via cycle_bond -> valence_3 cycle_double_bond\n",
      "added  {'token': valence_2_num, 'num': None, 'size': 5} from <frozendict {'token': cycle_bond, 'num': None, 'size': 4}> via cycle_bond -> valence_2_num\n",
      "added  {'token': cycle_bond, 'num': None, 'size': 6} from <frozendict {'token': cycle_bond, 'num': None, 'size': 4}> via cycle_bond -> aliphatic_ring_segment cycle_bond\n",
      "added  {'token': valence_3_num, 'num': None, 'size': 5} from <frozendict {'token': cycle_double_bond, 'num': None, 'size': 4}> via cycle_double_bond -> '=' valence_3_num\n",
      "added  {'token': cycle_double_bond, 'num': None, 'size': 6} from <frozendict {'token': cycle_bond, 'num': None, 'size': 5}> via cycle_bond -> valence_3 cycle_double_bond\n",
      "added  {'token': valence_2_num, 'num': None, 'size': 6} from <frozendict {'token': cycle_bond, 'num': None, 'size': 5}> via cycle_bond -> valence_2_num\n",
      "added  {'token': cycle_bond, 'num': None, 'size': 7} from <frozendict {'token': cycle_bond, 'num': None, 'size': 5}> via cycle_bond -> aliphatic_ring_segment cycle_bond\n"
     ]
    },
    {
     "name": "stdout",
     "output_type": "stream",
     "text": [
      "improving: aromatic_ring_5 -> starting_aromatic_c_num aromatic_os full_aromatic_segment aromatic_atom_num inf 9 [2, 1, 3, 2]\n",
      "improving: aromatic_ring_5 -> starting_aromatic_c_num aromatic_atom aromatic_os aromatic_atom aromatic_atom_num 9 8 [2, 1, 1, 1, 2]\n",
      "improving: aromatic_ring_6 -> starting_aromatic_c_num aromatic_atom full_aromatic_segment aromatic_atom aromatic_atom_num inf 10 [2, 1, 3, 1, 2]\n",
      "improving: double_aromatic_ring -> 'c' num1 aromatic_atom aromatic_atom aromatic_atom 'c' num 'c' num1 aromatic_atom aromatic_atom aromatic_atom aromatic_atom_num inf 12 [0, 1, 1, 1, 1, 0, 1, 0, 1, 1, 1, 1, 2]\n",
      "improving: double_aromatic_ring -> 'c' num1 aromatic_atom aromatic_atom aromatic_atom 'c' num 'n' num1 aromatic_atom aromatic_atom aromatic_atom_num 12 11 [0, 1, 1, 1, 1, 0, 1, 0, 1, 1, 1, 2]\n",
      "improving: valence_4_num -> 'C' num inf 2 [0, 1]\n",
      "added  {'token': valence_3_num, 'num': None, 'size': 6} from <frozendict {'token': cycle_double_bond, 'num': None, 'size': 5}> via cycle_double_bond -> '=' valence_3_num\n",
      "added  {'token': num, 'num': None, 'size': 6} from <frozendict {'token': valence_2_num, 'num': None, 'size': 5}> via valence_2_num -> 'O' num\n",
      "added  {'token': valence_4_num, 'num': None, 'size': 6} from <frozendict {'token': valence_2_num, 'num': None, 'size': 5}> via valence_2_num -> valence_4_num '(' double_bond ')'\n",
      "added  {'token': cycle_double_bond, 'num': None, 'size': 7} from <frozendict {'token': cycle_bond, 'num': None, 'size': 6}> via cycle_bond -> valence_3 cycle_double_bond\n",
      "added  {'token': valence_2_num, 'num': None, 'size': 7} from <frozendict {'token': cycle_bond, 'num': None, 'size': 6}> via cycle_bond -> valence_2_num\n",
      "added  {'token': cycle_bond, 'num': None, 'size': 8} from <frozendict {'token': cycle_bond, 'num': None, 'size': 6}> via cycle_bond -> aliphatic_ring_segment cycle_bond\n",
      "added  {'token': valence_3_num, 'num': None, 'size': 7} from <frozendict {'token': cycle_double_bond, 'num': None, 'size': 6}> via cycle_double_bond -> '=' valence_3_num\n",
      "added  {'token': num, 'num': None, 'size': 7} from <frozendict {'token': valence_2_num, 'num': None, 'size': 6}> via valence_2_num -> 'O' num\n",
      "added  {'token': valence_4_num, 'num': None, 'size': 7} from <frozendict {'token': valence_2_num, 'num': None, 'size': 6}> via valence_2_num -> valence_4_num '(' double_bond ')'\n",
      "added  {'token': valence_2_num, 'num': None, 'size': 8} from <frozendict {'token': cycle_bond, 'num': None, 'size': 7}> via cycle_bond -> valence_2_num\n",
      "improving: num -> '1' inf 1 [0]\n",
      "added  {'token': valence_3_num, 'num': None, 'size': 8} from <frozendict {'token': cycle_double_bond, 'num': None, 'size': 7}> via cycle_double_bond -> '=' valence_3_num\n",
      "added  {'token': num, 'num': None, 'size': 8} from <frozendict {'token': valence_2_num, 'num': None, 'size': 7}> via valence_2_num -> 'O' num\n",
      "added  {'token': valence_4_num, 'num': None, 'size': 8} from <frozendict {'token': valence_2_num, 'num': None, 'size': 7}> via valence_2_num -> valence_4_num '(' double_bond ')'\n",
      "added  {'token': valence_2_num, 'num': None, 'size': 9} from <frozendict {'token': cycle_bond, 'num': None, 'size': 8}> via cycle_bond -> valence_2_num\n",
      "improving: num -> '1' inf 1 [0]\n",
      "added  {'token': num, 'num': None, 'size': 9} from <frozendict {'token': valence_2_num, 'num': None, 'size': 8}> via valence_2_num -> 'O' num\n",
      "added  {'token': valence_3_num, 'num': None, 'size': 9} from <frozendict {'token': valence_2_num, 'num': None, 'size': 8}> via valence_2_num -> valence_3_num\n",
      "added  {'token': valence_4_num, 'num': None, 'size': 9} from <frozendict {'token': valence_2_num, 'num': None, 'size': 8}> via valence_2_num -> valence_4_num '(' double_bond ')'\n",
      "improving: valence_2_num -> 'O' num inf 2 [0, 1]\n",
      "improving: valence_3_num -> '[' 'C' '@' 'H' ']' num inf 2 [0, 0, 0, 0, 0, 1]\n",
      "improving: valence_2_num -> 'O' num inf 2 [0, 1]\n",
      "improving: valence_3_num -> '[' 'C' '@' 'H' ']' num inf 2 [0, 0, 0, 0, 0, 1]\n",
      "improving: valence_4_num -> 'C' num inf 2 [0, 1]\n",
      "improving: num -> '1' inf 1 [0]\n",
      "added  {'token': num, 'num': None, 'size': 10} from <frozendict {'token': valence_2_num, 'num': None, 'size': 9}> via valence_2_num -> 'O' num\n",
      "added  {'token': valence_3_num, 'num': None, 'size': 10} from <frozendict {'token': valence_2_num, 'num': None, 'size': 9}> via valence_2_num -> valence_3_num\n",
      "added  {'token': valence_4_num, 'num': None, 'size': 10} from <frozendict {'token': valence_2_num, 'num': None, 'size': 9}> via valence_2_num -> valence_4_num '(' double_bond ')'\n",
      "improving: num -> '1' inf 1 [0]\n",
      "improving: cycle_bond -> valence_2_num inf 3 [2]\n",
      "improving: cycle_double_bond -> '=' valence_3_num inf 3 [0, 2]\n",
      "improving: cycle_bond -> valence_2_num inf 3 [2]\n",
      "improving: cycle_double_bond -> '=' valence_3_num inf 3 [0, 2]\n",
      "improving: valence_2_num -> 'O' num inf 2 [0, 1]\n",
      "improving: valence_3_num -> '[' 'C' '@' 'H' ']' num inf 2 [0, 0, 0, 0, 0, 1]\n",
      "improving: valence_4_num -> 'C' num inf 2 [0, 1]\n",
      "improving: valence_2_num -> 'O' num inf 2 [0, 1]\n",
      "improving: valence_3_num -> '[' 'C' '@' 'H' ']' num inf 2 [0, 0, 0, 0, 0, 1]\n",
      "improving: valence_4_num -> 'C' num inf 2 [0, 1]\n",
      "improving: num -> '1' inf 1 [0]\n",
      "added  {'token': num, 'num': None, 'size': 11} from <frozendict {'token': valence_3_num, 'num': None, 'size': 10}> via valence_3_num -> '[' 'C' '@' 'H' ']' num\n",
      "added  {'token': valence_4_num, 'num': None, 'size': 11} from <frozendict {'token': valence_3_num, 'num': None, 'size': 10}> via valence_3_num -> valence_4_num\n",
      "improving: cycle_bond -> valence_2 cycle_bond inf 5 [1, 3]\n",
      "improving: cycle_double_bond -> '=' valence_3 cycle_bond inf 5 [0, 1, 3]\n",
      "improving: cycle_bond -> valence_2_num inf 3 [2]\n",
      "improving: cycle_double_bond -> '=' valence_3_num inf 3 [0, 2]\n",
      "improving: cycle_bond -> valence_2_num inf 3 [2]\n",
      "improving: cycle_double_bond -> '=' valence_3_num inf 3 [0, 2]\n",
      "improving: valence_2_num -> 'O' num inf 2 [0, 1]\n",
      "improving: valence_3_num -> '[' 'C' '@' 'H' ']' num inf 2 [0, 0, 0, 0, 0, 1]\n",
      "improving: valence_4_num -> 'C' num inf 2 [0, 1]\n",
      "improving: num -> '1' inf 1 [0]\n",
      "added  {'token': num, 'num': None, 'size': 12} from <frozendict {'token': valence_4_num, 'num': None, 'size': 11}> via valence_4_num -> 'C' num\n",
      "improving: cycle_bond -> valence_2 cycle_bond inf 7 [1, 5]\n",
      "improving: cycle_double_bond -> '=' valence_3 cycle_bond inf 7 [0, 1, 5]\n",
      "improving: cycle_bond -> valence_2_num inf 3 [2]\n",
      "improving: valence_3_num -> '[' 'C' '@' 'H' ']' num inf 2 [0, 0, 0, 0, 0, 1]\n",
      "improving: valence_4_num -> 'C' num inf 2 [0, 1]\n",
      "improving: num -> '1' inf 1 [0]\n",
      "improving: cycle_bond -> valence_2 cycle_bond inf 9 [1, 7]\n",
      "improving: cycle_double_bond -> '=' valence_3 cycle_bond inf 9 [0, 1, 7]\n",
      "improving: side_aliphatic_ring -> 'c' num '(' cycle_bond ')' inf 11 [0, 1, 0, 9, 0]\n",
      "improving: side_aliphatic_ring_segment -> 'c' num 'c' '(' cycle_bond ')' inf 11 [0, 1, 0, 0, 9, 0]\n",
      "improving: valence_4_num -> 'C' num inf 2 [0, 1]\n",
      "improving: aliphatic_ring -> valence_3_num cycle_bond inf 12 [2, 9]\n",
      "improving: aliphatic_ring_segment -> valence_3 '(' cycle_bond ')' valence_3_num inf 13 [1, 0, 9, 0, 2]\n",
      "improving: vertex_attached_ring -> valence_4_num '(' cycle_bond ')' inf 12 [2, 0, 9, 0]\n"
     ]
    }
   ],
   "source": [
    "from generative_playground.models.model_settings import get_decoder, get_settings\n",
    "\n",
    "max_len = 40\n",
    "settings = get_settings(True, 'new')\n",
    "\n",
    "# Now let's run a random model with a grammar\n",
    "model, _ = get_decoder(True,\n",
    "                    'new',\n",
    "                    feature_len=settings['feature_len'],\n",
    "                    max_seq_length=max_len,\n",
    "                    decoder_type='random',\n",
    "                   batch_size=9)\n"
   ]
  },
  {
   "cell_type": "code",
   "execution_count": 5,
   "metadata": {},
   "outputs": [
    {
     "name": "stdout",
     "output_type": "stream",
     "text": [
      "['ClS(=O)(=O)[C@](=[NH+][N+]([C@H]([NH+]=N[C@H]=[NH+]1)[C@@H]1SS2(=O)(=O))=[C@]2O3)[NH+]3', '[N+]([C@@H]=S(=O)(=O))=[C@@H]c1nnc2([C@](N)(S(=O)(=O))O[C@@H]=[C@@H]2)n1', '[C@@H]#[C@]', '[N+]#Cc1c([C@]([C@H]=[C@H][C@@H]=C2)=[C@]2[C@@H]=[C@@H]3)c3cnn1', 'N#[C@]', 'O=N', 'Cl', 'N#[C@@]', 'S=[C@]=C[C@]1=N[NH+](C=[C@@H][C@@H]S2(=O)(=O))C2([N+](=[C@H]))S1(=O)(=O)']\n",
      "[0, 0, 0, 3, 0, 0, 0, 0, 0]\n",
      "Warning: unable to load font metrics from dir C:\\ProgramData\\Anaconda3\\lib\\site-packages\\rdkit\\sping\\PIL\\pilfonts\n"
     ]
    },
    {
     "data": {
      "image/png": "[encoded data removed]",
      "text/plain": [
       "<PIL.Image.Image image mode=RGBA size=600x600 at 0x2188C85D3C8>"
      ]
     },
     "execution_count": 5,
     "metadata": {},
     "output_type": "execute_result"
    }
   ],
   "source": [
    "from generative_playground.codec.grammar_codec import GrammarModel\n",
    "settings = get_settings(True, 'new')\n",
    "codec = GrammarModel(grammar=settings['grammar'],\n",
    "                    tokenizer=settings['tokenizer'])\n",
    "actions = model()[0].detach().cpu().numpy()\n",
    "#print(actions, settings['feature_len'])\n",
    "my_smiles = codec.decode_from_actions(actions)\n",
    "print(my_smiles)\n",
    "\n",
    "mols = [Chem.MolFromSmiles(my_smile) for my_smile in my_smiles]\n",
    "print([Descriptors.NumAromaticRings(m) for m in mols if m is not None])\n",
    "MolsToGridImage(mols, kekulize=False)"
   ]
  },
  {
   "cell_type": "code",
   "execution_count": 6,
   "metadata": {},
   "outputs": [
    {
     "name": "stdout",
     "output_type": "stream",
     "text": [
      "[Tree('smiles', [Tree('initial_valence_1', ['Cl']), Tree('nonH_bond', [Tree('valence_2', ['S', '(', '=', 'O', ')', '(', '=', 'O', ')']), Tree('nonH_bond', [Tree('aliphatic_ring_segment', [Tree('valence_4', ['[', 'C', '@', ']']), '(', Tree('cycle_double_bond', ['=', Tree('valence_3', ['[', 'N', 'H', '+', ']']), Tree('cycle_bond', [Tree('aliphatic_ring_segment', [Tree('valence_4', ['[', 'N', '+', ']']), '(', Tree('cycle_bond', [Tree('aliphatic_ring_segment', [Tree('valence_3', ['[', 'C', '@', 'H', ']']), '(', Tree('cycle_bond', [Tree('valence_3', ['[', 'N', 'H', '+', ']']), Tree('cycle_double_bond', ['=', Tree('valence_3', ['N']), Tree('cycle_bond', [Tree('valence_3', ['[', 'C', '@', 'H', ']']), Tree('cycle_double_bond', ['=', Tree('valence_3_num', ['[', 'N', 'H', '+', ']', Tree('num', ['1'])])])])])]), ')', Tree('valence_3_num', ['[', 'C', '@', '@', 'H', ']', Tree('num', ['1'])])]), Tree('cycle_bond', [Tree('valence_2', ['S']), Tree('cycle_bond', [Tree('valence_2_num', ['S', Tree('num', ['2']), '(', '=', 'O', ')', '(', '=', 'O', ')'])])])]), ')', '=', Tree('valence_4_num', ['[', 'C', '@', ']', Tree('num', ['2'])])]), Tree('cycle_bond', [Tree('valence_2_num', ['O', Tree('num', ['3'])])])])]), ')', Tree('valence_3_num', ['[', 'N', 'H', '+', ']', Tree('num', ['3'])])])])])]), Tree('smiles', [Tree('nonH_bond', [Tree('valence_3', [Tree('valence_4', ['[', 'N', '+', ']']), '(', Tree('nonH_bond', [Tree('valence_3', ['[', 'C', '@', '@', 'H', ']']), Tree('double_bond', ['=', Tree('valence_2', ['S', '(', '=', 'O', ')', '(', '=', 'O', ')'])])]), ')']), Tree('double_bond', ['=', Tree('valence_3', ['[', 'C', '@', '@', 'H', ']']), Tree('nonH_bond', [Tree('aromatic_ring_5', [Tree('starting_aromatic_c_num', ['c', Tree('num', ['1'])]), Tree('full_aromatic_segment', [Tree('aromatic_atom', ['n']), Tree('aromatic_atom', ['n'])]), Tree('aromatic_os', [Tree('side_aliphatic_ring', ['c', Tree('num', ['2']), '(', Tree('cycle_bond', [Tree('valence_2', [Tree('valence_3', [Tree('valence_4', ['[', 'C', '@', ']']), '(', Tree('nonH_bond', [Tree('valence_1', [Tree('valence_2', [Tree('valence_3', ['N'])])])]), ')']), '(', Tree('nonH_bond', [Tree('valence_1', [Tree('valence_2', ['S', '(', '=', 'O', ')', '(', '=', 'O', ')'])])]), ')']), Tree('cycle_bond', [Tree('valence_2', ['O']), Tree('cycle_bond', [Tree('valence_3', ['[', 'C', '@', '@', 'H', ']']), Tree('cycle_double_bond', ['=', Tree('valence_3_num', ['[', 'C', '@', '@', 'H', ']', Tree('num', ['2'])])])])])]), ')'])]), Tree('aromatic_atom_num', ['n', Tree('num', ['1'])])])])])])]), Tree('smiles', [Tree('initial_valence_3', ['[', 'C', '@', '@', 'H', ']']), Tree('triple_bond', ['#', Tree('valence_4', ['[', 'C', '@', ']'])])]), Tree('smiles', [Tree('nonH_bond', [Tree('valence_4', ['[', 'N', '+', ']']), Tree('triple_bond', ['#', Tree('valence_4', ['C']), Tree('nonH_bond', [Tree('aromatic_ring_6', [Tree('starting_aromatic_c_num', ['c', Tree('num', ['1'])]), Tree('full_aromatic_segment', [Tree('side_aliphatic_ring_segment', ['c', '(', Tree('cycle_bond', [Tree('aliphatic_ring_segment', [Tree('valence_4', ['[', 'C', '@', ']']), '(', Tree('cycle_bond', [Tree('valence_3', ['[', 'C', '@', 'H', ']']), Tree('cycle_double_bond', ['=', Tree('valence_3', ['[', 'C', '@', 'H', ']']), Tree('cycle_bond', [Tree('valence_3', ['[', 'C', '@', '@', 'H', ']']), Tree('cycle_double_bond', ['=', Tree('valence_3_num', [Tree('valence_4_num', ['C', Tree('num', ['2'])])])])])])]), ')', '=', Tree('valence_4_num', ['[', 'C', '@', ']', Tree('num', ['2'])])]), Tree('cycle_bond', [Tree('valence_3', ['[', 'C', '@', '@', 'H', ']']), Tree('cycle_double_bond', ['=', Tree('valence_3_num', ['[', 'C', '@', '@', 'H', ']', Tree('num', ['3'])])])])]), ')', 'c', Tree('num', ['3'])])]), Tree('full_aromatic_segment', [Tree('aromatic_atom', ['c']), Tree('aromatic_atom', ['n'])]), Tree('aromatic_atom_num', ['n', Tree('num', ['1'])])])])])])]), Tree('smiles', [Tree('initial_valence_3', ['N']), Tree('triple_bond', ['#', Tree('valence_4', ['[', 'C', '@', ']'])])]), Tree('smiles', [Tree('initial_valence_2', ['O']), Tree('double_bond', ['=', Tree('valence_3', ['N'])])]), Tree('smiles', [Tree('nonH_bond', [Tree('valence_1', ['Cl'])])]), Tree('smiles', [Tree('initial_valence_3', ['N']), Tree('triple_bond', ['#', Tree('valence_4', ['[', 'C', '@', '@', ']'])])]), Tree('smiles', [Tree('initial_valence_2', ['S']), Tree('double_bond', ['=', Tree('valence_4', ['[', 'C', '@', ']']), Tree('double_bond', ['=', Tree('valence_3', [Tree('valence_4', ['C'])]), Tree('nonH_bond', [Tree('aliphatic_ring', [Tree('valence_4_num', ['[', 'C', '@', ']', Tree('num', ['1'])]), Tree('cycle_double_bond', ['=', Tree('valence_3', ['N']), Tree('cycle_bond', [Tree('aliphatic_ring_segment', [Tree('valence_3', ['[', 'N', 'H', '+', ']']), '(', Tree('cycle_bond', [Tree('valence_3', [Tree('valence_4', ['C'])]), Tree('cycle_double_bond', ['=', Tree('valence_3', ['[', 'C', '@', '@', 'H', ']']), Tree('cycle_bond', [Tree('valence_2', [Tree('valence_3', ['[', 'C', '@', '@', 'H', ']'])]), Tree('cycle_bond', [Tree('valence_2_num', ['S', Tree('num', ['2']), '(', '=', 'O', ')', '(', '=', 'O', ')'])])])])]), ')', Tree('valence_3_num', [Tree('valence_4_num', ['C', Tree('num', ['2'])]), '(', Tree('nonH_bond', [Tree('valence_1', [Tree('valence_3', [Tree('valence_4', ['[', 'N', '+', ']'])]), '(', Tree('double_bond', ['=', Tree('valence_3', ['[', 'C', '@', 'H', ']'])]), ')'])]), ')'])]), Tree('cycle_bond', [Tree('valence_2_num', ['S', Tree('num', ['1']), '(', '=', 'O', ')', '(', '=', 'O', ')'])])])])])])])])])] 9\n"
     ]
    }
   ],
   "source": [
    "#my_smiles.append'c1ccncn1']\n",
    "\n",
    "def parse(x):\n",
    "    # print(x)\n",
    "    try:\n",
    "        return next(codec._parser.parse(x))\n",
    "    except Exception as e:\n",
    "#         print('fail!')\n",
    "#         print(e)\n",
    "        return None\n",
    "    \n",
    "tokens = [codec._tokenize(s) for s in my_smiles]\n",
    "parse_trees = [parse(t) for t in tokens]\n",
    "print(parse_trees, len(parse_trees))\n"
   ]
  },
  {
   "cell_type": "code",
   "execution_count": 7,
   "metadata": {},
   "outputs": [],
   "source": [
    "fname = '../data/250k_rndm_zinc_drugs_clean.smi'\n",
    "\n",
    "with open(fname) as f:\n",
    "    smiles = f.readlines()\n",
    "\n",
    "for i in range(len(smiles)):\n",
    "    smiles[i] = smiles[i].strip()\n"
   ]
  },
  {
   "cell_type": "code",
   "execution_count": 13,
   "metadata": {},
   "outputs": [
    {
     "name": "stdout",
     "output_type": "stream",
     "text": [
      "29645\n",
      "29645\n"
     ]
    },
    {
     "data": {
      "image/png": "[encoded data removed]",
      "text/plain": [
       "<PIL.Image.Image image mode=RGB size=300x300 at 0x2189BB09AC8>"
      ]
     },
     "execution_count": 13,
     "metadata": {},
     "output_type": "execute_result"
    }
   ],
   "source": [
    "dashsmiles = [x for x in smiles if '-c' in x]\n",
    "print(len(dashsmiles))\n",
    "mols = [Chem.MolFromSmiles(s.replace('-c','c')) for s in dashsmiles]\n",
    "mols =[m for m in mols if m is not None]\n",
    "print(len(mols))\n",
    "MolToImage(mols[2], kekulize=False)"
   ]
  },
  {
   "cell_type": "code",
   "execution_count": 14,
   "metadata": {},
   "outputs": [
    {
     "name": "stdout",
     "output_type": "stream",
     "text": [
      "362 [1, 2, 5, 6, 7, 16, 17, 26, 35, 36, 41, 43, 44, 48, 53, 55, 56, 57, 68, 71, 76, 77, 79, 80, 81, 89, 90, 93, 95, 99, 101, 104, 109, 110, 115, 116, 117, 118, 125, 126, 132, 133, 134, 137, 138, 139, 141, 144, 148, 149, 150, 151, 152, 154, 155, 156, 159, 160, 161, 163, 166, 171, 172, 177, 179, 182, 188, 189, 190, 193, 197, 199, 201, 204, 207, 209, 211, 216, 224, 225, 229, 236, 237, 239, 241, 244, 245, 246, 248, 249, 250, 251, 255, 256, 258, 264, 265, 268, 276, 278, 281, 283, 284, 285, 293, 295, 302, 307, 308, 310, 313, 315, 317, 322, 324, 326, 327, 332, 336, 337, 339, 347, 348, 355, 358, 359, 361, 362, 363, 364, 366, 372, 373, 380, 383, 392, 393, 395, 398, 399, 403, 407, 408, 410, 411, 414, 416, 417, 418, 419, 423, 428, 429, 430, 431, 432, 433, 436, 441, 444, 447, 448, 449, 451, 459, 464, 473, 475, 476, 479, 480, 483, 484, 489, 494, 497, 499, 500, 502, 503, 505, 511, 512, 514, 515, 516, 524, 529, 530, 531, 532, 533, 537, 540, 541, 543, 547, 548, 553, 558, 560, 562, 565, 570, 571, 572, 573, 576, 580, 586, 589, 591, 595, 601, 603, 604, 605, 606, 607, 609, 611, 616, 618, 619, 620, 621, 622, 624, 627, 629, 630, 633, 634, 637, 639, 643, 645, 647, 648, 649, 650, 652, 653, 655, 656, 658, 660, 661, 662, 663, 665, 666, 669, 671, 673, 675, 676, 680, 681, 688, 692, 695, 697, 698, 704, 706, 707, 708, 710, 713, 716, 717, 720, 724, 729, 732, 735, 737, 750, 751, 755, 759, 761, 763, 764, 766, 768, 769, 772, 776, 778, 779, 786, 788, 796, 799, 802, 805, 807, 809, 813, 815, 819, 821, 823, 827, 828, 833, 836, 837, 838, 843, 844, 858, 861, 864, 868, 869, 871, 872, 875, 877, 878, 880, 881, 883, 886, 892, 893, 895, 900, 901, 903, 905, 909, 911, 912, 915, 924, 927, 928, 929, 930, 938, 939, 940, 946, 947, 954, 955, 962, 963, 965, 969, 970, 972, 979, 987, 992, 994, 996, 999]\n"
     ]
    }
   ],
   "source": [
    "tokens = [codec._tokenize(s.replace('-c','c')) for s in smiles[:1000]]\n",
    "parse_trees = [parse(t) for t in tokens]\n",
    "nice = [ip for ip, p in enumerate(parse_trees) if p is not None]\n",
    "print(len(nice), nice)"
   ]
  },
  {
   "cell_type": "code",
   "execution_count": 10,
   "metadata": {},
   "outputs": [],
   "source": [
    "i = 3"
   ]
  },
  {
   "cell_type": "code",
   "execution_count": 11,
   "metadata": {},
   "outputs": [
    {
     "name": "stdout",
     "output_type": "stream",
     "text": [
      "3 C1CNCCC1\n",
      "fail!\n"
     ]
    },
    {
     "data": {
      "image/png": "[encoded data removed]",
      "text/plain": [
       "<PIL.Image.Image image mode=RGB size=300x300 at 0x25F1B603A20>"
      ]
     },
     "execution_count": 11,
     "metadata": {},
     "output_type": "execute_result"
    }
   ],
   "source": [
    "# C[C@@H]1CC(Nc2cncc(-c3nncn3C)c2)C[C@@H](C)C1\n",
    "#N#Cc1ccc(-c2ccc(O[C@@H](C(=O)N3CCCC3)c3ccccc3)cc2)cc1\n",
    "#C[C@@H]1CC(Nc2cncc(-c3nncn3C)c2)C[C@@H](C)C1\n",
    "#smile = 'Nc2cncc(-c3nncn3C)c2'\n",
    "smile =  smiles[i]\n",
    "smile = 'C1CNCCC1'\n",
    "print(i, smile)\n",
    "mol = Chem.MolFromSmiles(smile)\n",
    "parse_tree = parse(codec._tokenize(smile))\n",
    "if parse_tree is None:\n",
    "    print('fail!')\n",
    "\n",
    "\n",
    "MolToImage(mol, kekulize=False)\n"
   ]
  },
  {
   "cell_type": "code",
   "execution_count": 12,
   "metadata": {},
   "outputs": [],
   "source": [
    "# i+=1\n",
    "# my_smile =smiles[i]\n",
    "# mols = [Chem.MolFromSmiles(my_smile)]\n",
    "# print(i, my_smile, [Descriptors.NumAromaticRings(m) for m in mols])\n",
    "# MolsToGridImage(mols, kekulize=False)\n"
   ]
  },
  {
   "cell_type": "code",
   "execution_count": 13,
   "metadata": {},
   "outputs": [],
   "source": [
    "\n",
    "# from generative_playground.models import grammar_ed_models as grammar_model\n",
    "\n",
    "# # We load the auto-encoder\n",
    "# grammar_weights = '../pretrained/my_molecules.mdl'\n",
    "# grammar_model = grammar_model.ZincGrammarModel(grammar_weights)\n",
    "# z = grammar_model.encode(['c1nccc2n1ccc2'])\n",
    "# new_smile = grammar_model.decode(z)"
   ]
  }
 ],
 "metadata": {
  "kernelspec": {
   "display_name": "Python [default]",
   "language": "python",
   "name": "python3"
  },
  "language_info": {
   "codemirror_mode": {
    "name": "ipython",
    "version": 3
   },
   "file_extension": ".py",
   "mimetype": "text/x-python",
   "name": "python",
   "nbconvert_exporter": "python",
   "pygments_lexer": "ipython3",
   "version": "3.6.5"
  }
 },
 "nbformat": 4,
 "nbformat_minor": 2
}
