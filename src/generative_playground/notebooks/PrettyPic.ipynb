{
 "cells": [
  {
   "cell_type": "code",
   "execution_count": 1,
   "metadata": {},
   "outputs": [],
   "source": [
    "import sys\n",
    "sys.path.append('../..')\n",
    "sys.path.append('../../../../transformer_pytorch')\n",
    "%load_ext autoreload\n",
    "%autoreload 2"
   ]
  },
  {
   "cell_type": "code",
   "execution_count": 12,
   "metadata": {},
   "outputs": [
    {
     "data": {
      "image/png": "[encoded data removed]",
      "text/plain": [
       "<PIL.Image.Image image mode=RGB size=300x300 at 0x1E08AF89FD0>"
      ]
     },
     "execution_count": 12,
     "metadata": {},
     "output_type": "execute_result"
    }
   ],
   "source": [
    "\n",
    "from rdkit import Chem\n",
    "from rdkit.Chem import AllChem, Descriptors\n",
    "from rdkit.Chem.Draw import MolToImage, MolToFile, _moltoSVG, MolsToGridImage\n",
    "\n",
    "smile='c1nccc2n1ccc2'\n",
    "smile2='OC(=O)O'\n",
    "mol = Chem.MolFromSmiles(smile)\n",
    "\n",
    "MolToImage(mol, kekulize=False)"
   ]
  },
  {
   "cell_type": "code",
   "execution_count": 3,
   "metadata": {},
   "outputs": [],
   "source": [
    "MolToFile(mol, 'test.svg', imageType='svg')"
   ]
  },
  {
   "cell_type": "code",
   "execution_count": 4,
   "metadata": {},
   "outputs": [],
   "source": [
    "from generative_playground.models.model_settings import get_decoder, get_settings\n",
    "\n",
    "max_len = 40\n",
    "settings = get_settings(True, 'new')\n",
    "\n",
    "# Now let's run a random model with a grammar\n",
    "model, _ = get_decoder(True,\n",
    "                    'new',\n",
    "                    feature_len=settings['feature_len'],\n",
    "                    max_seq_length=max_len,\n",
    "                    decoder_type='random',\n",
    "                   batch_size=9)\n"
   ]
  },
  {
   "cell_type": "code",
   "execution_count": 15,
   "metadata": {},
   "outputs": [
    {
     "name": "stdout",
     "output_type": "stream",
     "text": [
      "['C=NOF', 'C=S', 'C(c1cccc(Br)c1)', 'C=O', 'C=S', 'C(I)', 'C=S', 'C', 'C(Oc1cc(c1ccccc1)cc(F)c1)']\n",
      "[0, 0, 1, 0, 0, 0, 0, 0, 1]\n"
     ]
    },
    {
     "data": {
      "image/png": "[encoded data removed]",
      "text/plain": [
       "<PIL.Image.Image image mode=RGBA size=600x600 at 0x1E08AE18F60>"
      ]
     },
     "execution_count": 15,
     "metadata": {},
     "output_type": "execute_result"
    }
   ],
   "source": [
    "from generative_playground.codec.grammar_codec import GrammarModel\n",
    "settings = get_settings(True, 'new')\n",
    "codec = GrammarModel(grammar=settings['grammar'])\n",
    "actions = model()[0].detach().cpu().numpy()\n",
    "#print(actions, settings['feature_len'])\n",
    "my_smiles = codec.decode_from_actions(actions)\n",
    "print(my_smiles)\n",
    "\n",
    "mols = [Chem.MolFromSmiles(my_smile) for my_smile in my_smiles]\n",
    "print([Descriptors.NumAromaticRings(m) for m in mols])\n",
    "MolsToGridImage(mols, kekulize=False)"
   ]
  },
  {
   "cell_type": "code",
   "execution_count": 16,
   "metadata": {},
   "outputs": [],
   "source": [
    "fname = '../data/250k_rndm_zinc_drugs_clean.smi'\n",
    "\n",
    "with open(fname) as f:\n",
    "    smiles = f.readlines()\n",
    "\n",
    "for i in range(len(smiles)):\n",
    "    smiles[i] = smiles[i].strip()\n"
   ]
  },
  {
   "cell_type": "code",
   "execution_count": 19,
   "metadata": {},
   "outputs": [],
   "source": [
    "i=-1"
   ]
  },
  {
   "cell_type": "code",
   "execution_count": 32,
   "metadata": {},
   "outputs": [
    {
     "name": "stdout",
     "output_type": "stream",
     "text": [
      "12 O=C(N1CCc2c(F)ccc(F)c2C1)C1(O)Cc2ccccc2C1 [2]\n"
     ]
    },
    {
     "data": {
      "image/png": "[encoded data removed]",
      "text/plain": [
       "<PIL.Image.Image image mode=RGBA size=600x200 at 0x1E08AE20588>"
      ]
     },
     "execution_count": 32,
     "metadata": {},
     "output_type": "execute_result"
    }
   ],
   "source": [
    "i+=1\n",
    "my_smile =smiles[i]\n",
    "mols = [Chem.MolFromSmiles(my_smile)]\n",
    "print(i, my_smile, [Descriptors.NumAromaticRings(m) for m in mols])\n",
    "MolsToGridImage(mols, kekulize=False)\n"
   ]
  },
  {
   "cell_type": "code",
   "execution_count": 7,
   "metadata": {},
   "outputs": [],
   "source": [
    "\n",
    "# from generative_playground.models import grammar_ed_models as grammar_model\n",
    "\n",
    "# # We load the auto-encoder\n",
    "# grammar_weights = '../pretrained/my_molecules.mdl'\n",
    "# grammar_model = grammar_model.ZincGrammarModel(grammar_weights)\n",
    "# z = grammar_model.encode(['c1nccc2n1ccc2'])\n",
    "# new_smile = grammar_model.decode(z)"
   ]
  }
 ],
 "metadata": {
  "kernelspec": {
   "display_name": "Python 3",
   "language": "python",
   "name": "python3"
  },
  "language_info": {
   "codemirror_mode": {
    "name": "ipython",
    "version": 3
   },
   "file_extension": ".py",
   "mimetype": "text/x-python",
   "name": "python",
   "nbconvert_exporter": "python",
   "pygments_lexer": "ipython3",
   "version": "3.6.5"
  }
 },
 "nbformat": 4,
 "nbformat_minor": 2
}
