{
 "cells": [
  {
   "cell_type": "code",
   "execution_count": 25,
   "metadata": {},
   "outputs": [],
   "source": [
    "import rdkit\n",
    "from rdkit.Chem import MolFromSmiles, AddHs\n",
    "from rdkit.Chem import Draw"
   ]
  },
  {
   "cell_type": "code",
   "execution_count": 71,
   "metadata": {},
   "outputs": [
    {
     "data": {
      "image/png": "[encoded data removed]",
      "text/plain": [
       "<PIL.Image.Image image mode=RGB size=300x300 at 0x167F12E5710>"
      ]
     },
     "execution_count": 71,
     "metadata": {},
     "output_type": "execute_result"
    }
   ],
   "source": [
    "mol_ = MolFromSmiles('[C+][C@H](O)c1ccccc1/C(F)=C([Br])\\C=C')\n",
    "mol = MolFromSmiles('[CH2+][C@H](O)c1ccccc1\\C(F)=C([Br])\\C=C')\n",
    "mol = AddHs(mol)\n",
    "\n",
    "Draw.MolToImage(mol)\n"
   ]
  },
  {
   "cell_type": "code",
   "execution_count": 66,
   "metadata": {},
   "outputs": [
    {
     "name": "stdout",
     "output_type": "stream",
     "text": [
      "6 CHI_UNSPECIFIED 1 1 [0]\n",
      "6 CHI_TETRAHEDRAL_CCW 0 4 [0, 1, 2, 15]\n",
      "8 CHI_UNSPECIFIED 0 2 [1, 16]\n",
      "6 CHI_UNSPECIFIED 0 4 [2, 3, 14]\n",
      "6 CHI_UNSPECIFIED 0 4 [3, 4, 17]\n",
      "6 CHI_UNSPECIFIED 0 4 [4, 5, 18]\n",
      "6 CHI_UNSPECIFIED 0 4 [5, 6, 19]\n",
      "6 CHI_UNSPECIFIED 0 4 [6, 7, 20]\n",
      "6 CHI_UNSPECIFIED 0 4 [7, 8, 14]\n",
      "6 CHI_UNSPECIFIED 0 4 [8, 9, 10]\n",
      "9 CHI_UNSPECIFIED 0 1 [9]\n",
      "6 CHI_UNSPECIFIED 0 4 [10, 11, 12]\n",
      "35 CHI_UNSPECIFIED 0 1 [11]\n",
      "6 CHI_UNSPECIFIED 0 4 [12, 13, 21]\n",
      "6 CHI_UNSPECIFIED 0 4 [13, 22, 23]\n",
      "1 CHI_UNSPECIFIED 0 1 [15]\n",
      "1 CHI_UNSPECIFIED 0 1 [16]\n",
      "1 CHI_UNSPECIFIED 0 1 [17]\n",
      "1 CHI_UNSPECIFIED 0 1 [18]\n",
      "1 CHI_UNSPECIFIED 0 1 [19]\n",
      "1 CHI_UNSPECIFIED 0 1 [20]\n",
      "1 CHI_UNSPECIFIED 0 1 [21]\n",
      "1 CHI_UNSPECIFIED 0 1 [22]\n",
      "1 CHI_UNSPECIFIED 0 1 [23]\n",
      "False NONE SINGLE [] STEREONONE\n",
      "False NONE SINGLE [] STEREONONE\n",
      "False NONE SINGLE [] STEREONONE\n",
      "True NONE AROMATIC [] STEREONONE\n",
      "True NONE AROMATIC [] STEREONONE\n",
      "True NONE AROMATIC [] STEREONONE\n",
      "True NONE AROMATIC [] STEREONONE\n",
      "True NONE AROMATIC [] STEREONONE\n",
      "True ENDDOWNRIGHT SINGLE [] STEREONONE\n",
      "False NONE SINGLE [] STEREONONE\n",
      "True NONE DOUBLE [] STEREOE\n",
      "False NONE SINGLE [] STEREONONE\n",
      "True ENDDOWNRIGHT SINGLE [] STEREONONE\n",
      "True NONE DOUBLE [] STEREONONE\n",
      "True NONE AROMATIC [] STEREONONE\n",
      "False NONE SINGLE [] STEREONONE\n",
      "False NONE SINGLE [] STEREONONE\n",
      "False NONE SINGLE [] STEREONONE\n",
      "False NONE SINGLE [] STEREONONE\n",
      "False NONE SINGLE [] STEREONONE\n",
      "False NONE SINGLE [] STEREONONE\n",
      "False NONE SINGLE [] STEREONONE\n",
      "False NONE SINGLE [] STEREONONE\n",
      "False NONE SINGLE [] STEREONONE\n"
     ]
    }
   ],
   "source": [
    "for atom in mol.GetAtoms():\n",
    "    print(atom.GetAtomicNum(), atom.GetChiralTag(), atom.GetFormalCharge(),atom.GetTotalValence(),\n",
    "          [bond.GetIdx() for bond in atom.GetBonds()])\n",
    "    \n",
    "for bond in mol.GetBonds():\n",
    "    print(bond.GetIsConjugated(), bond.GetBondDir(), bond.GetBondType(), [x for x in bond.GetPropNames()], bond.GetStereo())"
   ]
  },
  {
   "cell_type": "code",
   "execution_count": 70,
   "metadata": {},
   "outputs": [
    {
     "data": {
      "text/plain": [
       "5.011872336272722"
      ]
     },
     "execution_count": 70,
     "metadata": {},
     "output_type": "execute_result"
    }
   ],
   "source": [
    "from math import log\n",
    "10**0.7"
   ]
  }
 ],
 "metadata": {
  "kernelspec": {
   "display_name": "Python [conda root]",
   "language": "python",
   "name": "conda-root-py"
  },
  "language_info": {
   "codemirror_mode": {
    "name": "ipython",
    "version": 3
   },
   "file_extension": ".py",
   "mimetype": "text/x-python",
   "name": "python",
   "nbconvert_exporter": "python",
   "pygments_lexer": "ipython3",
   "version": "3.6.5"
  }
 },
 "nbformat": 4,
 "nbformat_minor": 2
}
