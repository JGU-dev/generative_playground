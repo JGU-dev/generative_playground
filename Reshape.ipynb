{
 "cells": [
  {
   "cell_type": "code",
   "execution_count": 1,
   "metadata": {},
   "outputs": [
    {
     "data": {
      "text/plain": [
       "True"
      ]
     },
     "execution_count": 1,
     "metadata": {},
     "output_type": "execute_result"
    }
   ],
   "source": [
    "import torch\n",
    "torch.cuda.is_available()"
   ]
  },
  {
   "cell_type": "code",
   "execution_count": 2,
   "metadata": {},
   "outputs": [
    {
     "data": {
      "text/plain": [
       "torch.Size([10, 5])"
      ]
     },
     "execution_count": 2,
     "metadata": {},
     "output_type": "execute_result"
    }
   ],
   "source": [
    "import torch\n",
    "import numpy as np\n",
    "\n",
    "numpy_tensor = np.random.randn(10, 20)\n",
    "\n",
    "# convert numpy array to pytorch array\n",
    "pytorch_tensor = torch.Tensor(numpy_tensor)\n",
    "# or another way\n",
    "pytorch_tensor = torch.from_numpy(numpy_tensor)\n",
    "\n",
    "# convert torch tensor to numpy representation\n",
    "pytorch_tensor.numpy()\n",
    "\n",
    "# if we want to use tensor on GPU provide another type\n",
    "dtype = torch.cuda.FloatTensor\n",
    "gpu_tensor = torch.randn(10, 20).type(dtype)\n",
    "# or just call `cuda()` method\n",
    "gpu_tensor = pytorch_tensor.cuda()\n",
    "# call back to the CPU\n",
    "cpu_tensor = gpu_tensor.cpu()\n",
    "\n",
    "# define pytorch tensors\n",
    "x = torch.randn(10, 20)\n",
    "y = torch.ones(20, 5)\n",
    "# `@` mean matrix multiplication from python3.5, PEP-0465\n",
    "res = x @ y\n",
    "\n",
    "# get the shape\n",
    "res.shape  # torch.Size([10, 5])"
   ]
  },
  {
   "cell_type": "code",
   "execution_count": null,
   "metadata": {
    "collapsed": true
   },
   "outputs": [],
   "source": [
    "%load_ext autoreload\n",
    "%autoreload 2\n",
    "\n",
    "from data import data_gen\n",
    "x = data_gen(20,1)\n",
    "print(x)\n",
    "print(next(x))\n",
    "print(next(x))"
   ]
  },
  {
   "cell_type": "code",
   "execution_count": null,
   "metadata": {
    "collapsed": true
   },
   "outputs": [],
   "source": [
    "import torch\n",
    "from torch.autograd import Variable\n",
    "\n",
    "# define an inputs\n",
    "x_tensor = torch.randn(10, 20)\n",
    "y_tensor = torch.randn(10, 5)\n",
    "x = Variable(x_tensor, requires_grad=False)\n",
    "y = Variable(y_tensor, requires_grad=False)\n",
    "# define some weights\n",
    "w = Variable(torch.randn(20, 5), requires_grad=True)\n",
    "\n",
    "#print(w)\n",
    "# get variable tensor\n",
    "print(type(w.data))  # torch.FloatTensor\n",
    "# get variable gradient\n",
    "print(w.grad)  # None\n",
    "\n",
    "loss = torch.mean((y - x @ w) ** 2)\n",
    "\n",
    "# calculate the gradients\n",
    "loss.backward()\n",
    "print(w.grad)  # some gradients\n",
    "# manually apply gradients\n",
    "w.data -= 0.01 * w.grad.data\n",
    "# manually zero gradients after update\n",
    "w.grad.data.zero_()"
   ]
  },
  {
   "cell_type": "code",
   "execution_count": 97,
   "metadata": {},
   "outputs": [],
   "source": [
    "from math import floor,ceil\n",
    "\n",
    "class WarpMatrix(torch.autograd.Function):\n",
    "    @staticmethod\n",
    "    def forward(ctx, a):\n",
    "        b = torch.cumsum(a, 0)\n",
    "        dim1 = int(a.shape[0])\n",
    "        dim0 = int(ceil(b[-1]))\n",
    "        t_dim = [dim0, dim1]\n",
    "        trans_mat = torch.zeros(t_dim)\n",
    "        grad_indices = torch.FloatTensor(dim1)\n",
    "        #trans_grad = torch.zeros(t_dim.append(a.shape[0]))\n",
    "        prev_ind = 0\n",
    "        cross_boundary = []\n",
    "        for i, x in enumerate(zip(a, b)):\n",
    "            ai, bi = x\n",
    "            this_ind = floor(bi)\n",
    "            if this_ind == prev_ind:\n",
    "                trans_mat[this_ind, i] = ai\n",
    "                cross_boundary.append(False)\n",
    "            else:  # we just crossed an integer boundary\n",
    "                tmp = bi - this_ind\n",
    "                trans_mat[this_ind, i] = tmp\n",
    "                trans_mat[this_ind - 1, i] = ai - tmp\n",
    "                cross_boundary.append(True)\n",
    "            grad_indices[i]=this_ind\n",
    "            prev_ind = this_ind\n",
    "        # assert ((a - trans_mat.sum(0)).abs().max() < 1e-6)\n",
    "        # assert ((torch.ones(trans_mat.shape[0] - 1) - trans_mat.sum(1)[:-1]).abs().max() < 1e-6)\n",
    "        ctx.save_for_backward(a)\n",
    "        ctx.grad_indices = grad_indices\n",
    "        ctx.cross_boundary = cross_boundary\n",
    "        return trans_mat\n",
    "    @staticmethod\n",
    "    def backward(ctx,grad_output):\n",
    "        #print('grad output:', grad_output)\n",
    "        a, = ctx.saved_variables\n",
    "        grad_indices = ctx.grad_indices\n",
    "        my_grad = torch.zeros_like(a)\n",
    "        for k, ind in enumerate(grad_indices):\n",
    "            my_grad[k] = grad_output[int(ind),k]\n",
    "            for j in range(k+1,int(grad_output.data.shape[1])):\n",
    "                if ctx.cross_boundary[j]:\n",
    "                    iofj = int(grad_indices[j])            \n",
    "                    my_grad[k] = my_grad[k] +\\\n",
    "                                (grad_output[iofj,j] - \\\n",
    "                                grad_output[iofj-1,j] )\n",
    "                    #print(my_grad[k].view(1,-1))\n",
    "        return my_grad#torch.ones_like(a)"
   ]
  },
  {
   "cell_type": "code",
   "execution_count": 114,
   "metadata": {},
   "outputs": [
    {
     "name": "stdout",
     "output_type": "stream",
     "text": [
      "The autoreload extension is already loaded. To reload it, use:\n",
      "  %reload_ext autoreload\n",
      "Variable containing:\n",
      " 0.5651  0.4349  0.0000  0.0000  0.0000\n",
      " 0.0000  0.0341  0.6564  0.3095  0.0000\n",
      " 0.0000  0.0000  0.0000  0.1328  0.1229\n",
      "[torch.FloatTensor of size 3x5]\n",
      " Variable containing:\n",
      " 0.6564\n",
      "[torch.FloatTensor of size 1]\n",
      " Variable containing:\n",
      " 0\n",
      " 0\n",
      " 1\n",
      " 0\n",
      " 0\n",
      "[torch.FloatTensor of size 5]\n",
      "\n"
     ]
    }
   ],
   "source": [
    "%load_ext autoreload\n",
    "%autoreload 2\n",
    "#from reshape import WarpMatrix\n",
    "from torch.autograd import Variable\n",
    "import torch\n",
    "\n",
    "#w=Variable(torch.FloatTensor(5).uniform_(), requires_grad = True)\n",
    "wmat = WarpMatrix.apply(w)\n",
    "#print(wmat.data)\n",
    "# loss = wmat.sum(0).sum(0)\n",
    "# loss.backward()\n",
    "# print(wmat.grad)\n",
    "    #w1 = Variable(torch.FloatTensor(3,3).uniform_(), requires_grad = True)\n",
    "loss = wmat.sum(0)[2]\n",
    "loss.backward()\n",
    "print(wmat, loss, w.grad)\n",
    "a =w.grad.data.zero_()\n",
    "\n",
    "#print(w,loss)"
   ]
  },
  {
   "cell_type": "code",
   "execution_count": 91,
   "metadata": {},
   "outputs": [
    {
     "ename": "TypeError",
     "evalue": "forward() takes 2 positional arguments but 3 were given",
     "output_type": "error",
     "traceback": [
      "\u001b[0;31m---------------------------------------------------------------------------\u001b[0m",
      "\u001b[0;31mTypeError\u001b[0m                                 Traceback (most recent call last)",
      "\u001b[0;32m<ipython-input-91-2d63d091528e>\u001b[0m in \u001b[0;36m<module>\u001b[0;34m()\u001b[0m\n\u001b[1;32m      5\u001b[0m \u001b[0;31m# approximations and returns True if they all verify this condition.\u001b[0m\u001b[0;34m\u001b[0m\u001b[0;34m\u001b[0m\u001b[0m\n\u001b[1;32m      6\u001b[0m \u001b[0minput\u001b[0m \u001b[0;34m=\u001b[0m \u001b[0;34m(\u001b[0m\u001b[0mVariable\u001b[0m\u001b[0;34m(\u001b[0m\u001b[0mtorch\u001b[0m\u001b[0;34m.\u001b[0m\u001b[0mrandn\u001b[0m\u001b[0;34m(\u001b[0m\u001b[0;36m20\u001b[0m\u001b[0;34m,\u001b[0m\u001b[0;36m20\u001b[0m\u001b[0;34m)\u001b[0m\u001b[0;34m.\u001b[0m\u001b[0mdouble\u001b[0m\u001b[0;34m(\u001b[0m\u001b[0;34m)\u001b[0m\u001b[0;34m,\u001b[0m \u001b[0mrequires_grad\u001b[0m\u001b[0;34m=\u001b[0m\u001b[0;32mTrue\u001b[0m\u001b[0;34m)\u001b[0m\u001b[0;34m,\u001b[0m \u001b[0mVariable\u001b[0m\u001b[0;34m(\u001b[0m\u001b[0mtorch\u001b[0m\u001b[0;34m.\u001b[0m\u001b[0mrandn\u001b[0m\u001b[0;34m(\u001b[0m\u001b[0;36m30\u001b[0m\u001b[0;34m,\u001b[0m\u001b[0;36m20\u001b[0m\u001b[0;34m)\u001b[0m\u001b[0;34m.\u001b[0m\u001b[0mdouble\u001b[0m\u001b[0;34m(\u001b[0m\u001b[0;34m)\u001b[0m\u001b[0;34m,\u001b[0m \u001b[0mrequires_grad\u001b[0m\u001b[0;34m=\u001b[0m\u001b[0;32mTrue\u001b[0m\u001b[0;34m)\u001b[0m\u001b[0;34m,\u001b[0m\u001b[0;34m)\u001b[0m\u001b[0;34m\u001b[0m\u001b[0m\n\u001b[0;32m----> 7\u001b[0;31m \u001b[0mtest\u001b[0m \u001b[0;34m=\u001b[0m \u001b[0mgradcheck\u001b[0m\u001b[0;34m(\u001b[0m\u001b[0mWarpMatrix\u001b[0m\u001b[0;34m.\u001b[0m\u001b[0mapply\u001b[0m\u001b[0;34m,\u001b[0m \u001b[0minput\u001b[0m\u001b[0;34m,\u001b[0m \u001b[0meps\u001b[0m\u001b[0;34m=\u001b[0m\u001b[0;36m1e-6\u001b[0m\u001b[0;34m,\u001b[0m \u001b[0matol\u001b[0m\u001b[0;34m=\u001b[0m\u001b[0;36m1e-4\u001b[0m\u001b[0;34m)\u001b[0m\u001b[0;34m\u001b[0m\u001b[0m\n\u001b[0m\u001b[1;32m      8\u001b[0m \u001b[0mprint\u001b[0m\u001b[0;34m(\u001b[0m\u001b[0mtest\u001b[0m\u001b[0;34m)\u001b[0m\u001b[0;34m\u001b[0m\u001b[0m\n",
      "\u001b[0;32m/home/carnd/anaconda3/lib/python3.5/site-packages/torch/autograd/gradcheck.py\u001b[0m in \u001b[0;36mgradcheck\u001b[0;34m(func, inputs, eps, atol, rtol, raise_exception)\u001b[0m\n\u001b[1;32m    160\u001b[0m         \u001b[0;32mTrue\u001b[0m \u001b[0;32mif\u001b[0m \u001b[0mall\u001b[0m \u001b[0mdifferences\u001b[0m \u001b[0msatisfy\u001b[0m \u001b[0mallclose\u001b[0m \u001b[0mcondition\u001b[0m\u001b[0;34m\u001b[0m\u001b[0m\n\u001b[1;32m    161\u001b[0m     \"\"\"\n\u001b[0;32m--> 162\u001b[0;31m     \u001b[0moutput\u001b[0m \u001b[0;34m=\u001b[0m \u001b[0m_differentiable_outputs\u001b[0m\u001b[0;34m(\u001b[0m\u001b[0mfunc\u001b[0m\u001b[0;34m(\u001b[0m\u001b[0;34m*\u001b[0m\u001b[0minputs\u001b[0m\u001b[0;34m)\u001b[0m\u001b[0;34m)\u001b[0m\u001b[0;34m\u001b[0m\u001b[0m\n\u001b[0m\u001b[1;32m    163\u001b[0m \u001b[0;34m\u001b[0m\u001b[0m\n\u001b[1;32m    164\u001b[0m     \u001b[0;32mdef\u001b[0m \u001b[0mfail_test\u001b[0m\u001b[0;34m(\u001b[0m\u001b[0mmsg\u001b[0m\u001b[0;34m)\u001b[0m\u001b[0;34m:\u001b[0m\u001b[0;34m\u001b[0m\u001b[0m\n",
      "\u001b[0;31mTypeError\u001b[0m: forward() takes 2 positional arguments but 3 were given"
     ]
    }
   ],
   "source": [
    "from torch.autograd import gradcheck\n",
    "\n",
    "# gradchek takes a tuple of tensor as input, check if your gradient\n",
    "# evaluated with these tensors are close enough to numerical\n",
    "# approximations and returns True if they all verify this condition.\n",
    "input = (Variable(torch.randn(20,20).double(), requires_grad=True), Variable(torch.randn(30,20).double(), requires_grad=True),)\n",
    "test = gradcheck(WarpMatrix.apply, input, eps=1e-6, atol=1e-4)\n",
    "print(test)"
   ]
  },
  {
   "cell_type": "code",
   "execution_count": 32,
   "metadata": {},
   "outputs": [
    {
     "name": "stdout",
     "output_type": "stream",
     "text": [
      "0.3.0.post4\n"
     ]
    }
   ],
   "source": [
    "import torch\n",
    "print(torch.__version__)\n",
    "class MyFunction(torch.autograd.Function):\n",
    "    @staticmethod\n",
    "    def forward(ctx, input):\n",
    "        ctx.save_for_backward(input)\n",
    "        output = torch.sign(input)\n",
    "        return output\n",
    "    @staticmethod\n",
    "    def backward(ctx, grad_output):\n",
    "        # saved tensors - tuple of tensors, so we need get first\n",
    "        input, = ctx.saved_variables\n",
    "#         grad_output[input.ge(1)] = 0\n",
    "#         grad_output[input.le(-1)] = 0\n",
    "        return grad_output\n",
    "\n",
    "\n",
    "# usage\n",
    "x = torch.autograd.Variable(torch.randn(10, 20), requires_grad = True)\n",
    "y = MyFunction.apply(x)\n",
    "# or\n",
    "# my_func = MyFunction.apply\n",
    "# y = my_func(x)\n",
    "loss = y.sum()\n",
    "loss.backward()"
   ]
  },
  {
   "cell_type": "code",
   "execution_count": 1,
   "metadata": {},
   "outputs": [
    {
     "name": "stdout",
     "output_type": "stream",
     "text": [
      "Variable containing:\n",
      " 1.6231\n",
      "[torch.FloatTensor of size 1]\n",
      "\n",
      "Variable containing:\n",
      " 1.6214\n",
      "[torch.FloatTensor of size 1]\n",
      "\n",
      "Variable containing:\n",
      " 1.6197\n",
      "[torch.FloatTensor of size 1]\n",
      "\n",
      "Variable containing:\n",
      " 1.6181\n",
      "[torch.FloatTensor of size 1]\n",
      "\n",
      "Variable containing:\n",
      " 1.6164\n",
      "[torch.FloatTensor of size 1]\n",
      "\n"
     ]
    }
   ],
   "source": [
    "import torch\n",
    "from torch.autograd import Variable\n",
    "import torch.nn.functional as F\n",
    "\n",
    "\n",
    "x = Variable(torch.randn(10, 20), requires_grad=False)\n",
    "y = Variable(torch.randn(10, 3), requires_grad=False)\n",
    "# define some weights\n",
    "w1 = Variable(torch.randn(20, 5), requires_grad=True)\n",
    "w2 = Variable(torch.randn(5, 3), requires_grad=True)\n",
    "\n",
    "learning_rate = 0.1\n",
    "loss_fn = torch.nn.MSELoss()\n",
    "optimizer = torch.optim.SGD([w1, w2], lr=learning_rate)\n",
    "for step in range(5):\n",
    "    pred = F.sigmoid(x @ w1)\n",
    "    pred = F.sigmoid(pred @ w2)\n",
    "    loss = loss_fn(pred, y)\n",
    "\n",
    "    # manually zero all previous gradients\n",
    "    optimizer.zero_grad()\n",
    "    # calculate new gradients\n",
    "    loss.backward()\n",
    "    # apply new gradients\n",
    "    optimizer.step()\n",
    "    print(loss)"
   ]
  },
  {
   "cell_type": "code",
   "execution_count": null,
   "metadata": {
    "collapsed": true
   },
   "outputs": [],
   "source": [
    "import torch\n",
    "\n",
    "first_counter = torch.Tensor([0])\n",
    "second_counter = torch.Tensor([10])\n",
    "some_value = torch.Tensor(15)\n",
    "\n",
    "while (first_counter < second_counter)[0]:\n",
    "    first_counter += 2\n",
    "    second_counter += 1"
   ]
  },
  {
   "cell_type": "code",
   "execution_count": null,
   "metadata": {
    "collapsed": true
   },
   "outputs": [],
   "source": [
    "next([1].iter())"
   ]
  },
  {
   "cell_type": "code",
   "execution_count": null,
   "metadata": {
    "collapsed": true
   },
   "outputs": [],
   "source": [
    "from collections import OrderedDict\n",
    "\n",
    "import torch.nn as nn\n",
    "\n",
    "\n",
    "# Example of using Sequential\n",
    "model = nn.Sequential(\n",
    "    nn.Conv2d(1, 20, 5),\n",
    "    nn.ReLU(),\n",
    "    nn.Conv2d(20, 64, 5),\n",
    "    nn.ReLU()\n",
    ")\n",
    "\n",
    "# Example of using Sequential with OrderedDict\n",
    "model = nn.Sequential(OrderedDict([\n",
    "    ('conv1', nn.Conv2d(1, 20, 5)),\n",
    "    ('relu1', nn.ReLU()),\n",
    "    ('conv2', nn.Conv2d(20, 64, 5)),\n",
    "    ('relu2', nn.ReLU())\n",
    "]))\n",
    "\n",
    "#output = model(some_input)"
   ]
  },
  {
   "cell_type": "code",
   "execution_count": null,
   "metadata": {
    "collapsed": true
   },
   "outputs": [],
   "source": [
    "from torch import nn\n",
    "\n",
    "class Model(nn.Module):\n",
    "    def __init__(self):\n",
    "        super().__init__()\n",
    "        self.feature_extractor = nn.Sequential(\n",
    "            nn.Conv2d(3, 12, kernel_size=3, padding=1, stride=1),\n",
    "            nn.Conv2d(12, 24, kernel_size=3, padding=1, stride=1),\n",
    "        )\n",
    "        self.second_extractor = nn.Conv2d(\n",
    "            24, 36, kernel_size=3, padding=1, stride=1)\n",
    "\n",
    "    def forward(self, x):\n",
    "        x = self.feature_extractor(x)\n",
    "        x = self.second_extractor(x)\n",
    "        # note that we may call same layer twice or mode\n",
    "        x = self.second_extractor(x)\n",
    "        return x"
   ]
  },
  {
   "cell_type": "code",
   "execution_count": null,
   "metadata": {
    "collapsed": true
   },
   "outputs": [],
   "source": [
    "import torch\n",
    "\n",
    "class MyFunction(torch.autograd.Function):\n",
    "\n",
    "    @staticmethod\n",
    "    def forward(ctx, input):\n",
    "        ctx.save_for_backward(input)\n",
    "        output = torch.sign(input)\n",
    "        return output\n",
    "\n",
    "    @staticmethod\n",
    "    def backward(ctx, grad_output):\n",
    "        # saved tensors - tuple of tensors, so we need get first\n",
    "        input, = ctx.saved_variables\n",
    "        grad_output[input.ge(1)] = 0\n",
    "        grad_output[input.le(-1)] = 0\n",
    "        return grad_output\n",
    "\n",
    "\n",
    "# usage\n",
    "x = torch.randn(10, 20)\n",
    "y = MyFunction.apply(x)\n",
    "# or\n",
    "my_func = MyFunction.apply\n",
    "print(MyFunction)\n",
    "y = my_func(x)\n",
    "\n",
    "\n",
    "# and if we want to use inside nn.Module\n",
    "class MyFunctionModule(torch.nn.Module):\n",
    "    def forward(self, x):\n",
    "        return MyFunction.apply(x)\n"
   ]
  },
  {
   "cell_type": "code",
   "execution_count": null,
   "metadata": {
    "collapsed": true
   },
   "outputs": [],
   "source": [
    "\n",
    "import torch\n",
    "\n",
    "### tensor example\n",
    "x_cpu = torch.randn(10, 20)\n",
    "w_cpu = torch.randn(20, 10)\n",
    "# direct transfer to the GPU\n",
    "x_gpu = x_cpu.cuda()\n",
    "w_gpu = w_cpu.cuda()\n",
    "result_gpu = x_gpu @ w_gpu\n",
    "# get back from GPU to CPU\n",
    "result_cpu = result_gpu.cpu()\n",
    "\n",
    "### model example\n",
    "model = model.cuda()\n",
    "# train step\n",
    "inputs = Variable(inputs.cuda())\n",
    "outputs = model(inputs)\n",
    "# get back from GPU to CPU\n",
    "outputs = outputs.cpu()\n"
   ]
  },
  {
   "cell_type": "code",
   "execution_count": null,
   "metadata": {
    "collapsed": true
   },
   "outputs": [],
   "source": [
    "\n",
    "import torch\n",
    "\n",
    "# check is cuda enabled\n",
    "torch.cuda.is_available()\n",
    "\n",
    "# set required device\n",
    "torch.cuda.set_device(0)\n",
    "\n",
    "# work with some required cuda device\n",
    "with torch.cuda.device(1):\n",
    "    # allocates a tensor on GPU 1\n",
    "    a = torch.cuda.FloatTensor(1)\n",
    "    assert a.get_device() == 1\n",
    "\n",
    "    # but you still can manually assign tensor to required device\n",
    "    d = torch.randn(2).cuda(2)\n",
    "    assert d.get_device() == 2\n"
   ]
  },
  {
   "cell_type": "code",
   "execution_count": null,
   "metadata": {
    "collapsed": true
   },
   "outputs": [],
   "source": [
    "\n",
    "import torch\n",
    "from torch.autograd import Variable\n",
    "\n",
    "# new way with `init` module\n",
    "w = torch.Tensor(3, 5)\n",
    "torch.nn.init.normal(w)\n",
    "# work for Variables also\n",
    "w2 = Variable(w)\n",
    "torch.nn.init.normal(w2)\n",
    "# old styled direct access to tensors data attribute\n",
    "w2.data.normal_()\n",
    "\n",
    "# example for some module\n",
    "def weights_init(m):\n",
    "    classname = m.__class__.__name__\n",
    "    if classname.find('Conv') != -1:\n",
    "        m.weight.data.normal_(0.0, 0.02)\n",
    "    elif classname.find('BatchNorm') != -1:\n",
    "        m.weight.data.normal_(1.0, 0.02)\n",
    "        m.bias.data.fill_(0)\n",
    "\n",
    "# for loop approach with direct access\n",
    "class MyModel(nn.Module):\n",
    "    def __init__(self):\n",
    "        for m in self.modules():\n",
    "            if isinstance(m, nn.Conv2d):\n",
    "                n = m.kernel_size[0] * m.kernel_size[1] * m.out_channels\n",
    "                m.weight.data.normal_(0, math.sqrt(2. / n))\n",
    "            elif isinstance(m, nn.BatchNorm2d):\n",
    "                m.weight.data.fill_(1)\n",
    "                m.bias.data.zero_()\n",
    "            elif isinstance(m, nn.Linear):\n",
    "                m.bias.data.zero_()\n"
   ]
  },
  {
   "cell_type": "code",
   "execution_count": null,
   "metadata": {
    "collapsed": true
   },
   "outputs": [],
   "source": [
    "\n",
    "# scheduler example\n",
    "from torch.optim import lr_scheduler\n",
    "\n",
    "optimizer = torch.optim.SGD(model.parameters(), lr=0.01)\n",
    "scheduler = lr_scheduler.StepLR(optimizer, step_size=30, gamma=0.1)\n",
    "\n",
    "for epoch in range(100):\n",
    "    scheduler.step()\n",
    "    train()\n",
    "    validate()\n",
    "\n",
    "# Train flag can be updated with boolean\n",
    "# to disable dropout and batch norm learning\n",
    "model.train(True)\n",
    "# execute train step\n",
    "model.train(False)\n",
    "# run inference step\n",
    "\n",
    "# CPU seed\n",
    "torch.manual_seed(42)\n",
    "# GPU seed\n",
    "torch.cuda.manual_seed_all(42)"
   ]
  },
  {
   "cell_type": "code",
   "execution_count": null,
   "metadata": {
    "collapsed": true
   },
   "outputs": [],
   "source": [
    "\n",
    "from collections import OrderedDict\n",
    "\n",
    "import torch.nn as nn\n",
    "save_path = 'test.mdl'\n",
    "model = nn.Sequential(OrderedDict([\n",
    "    ('conv1', nn.Conv2d(1, 20, 5)),\n",
    "    ('relu1', nn.ReLU()),\n",
    "    ('conv2', nn.Conv2d(20, 64, 5)),\n",
    "    ('relu2', nn.ReLU())\n",
    "]))\n",
    "\n",
    "print(model)\n",
    "\n",
    "# Sequential (\n",
    "#   (conv1): Conv2d(1, 20, kernel_size=(5, 5), stride=(1, 1))\n",
    "#   (relu1): ReLU ()\n",
    "#   (conv2): Conv2d(20, 64, kernel_size=(5, 5), stride=(1, 1))\n",
    "#   (relu2): ReLU ()\n",
    "# )\n",
    "\n",
    "# save/load only the model parameters(prefered solution)\n",
    "torch.save(model.state_dict(), save_path)\n",
    "model.load_state_dict(torch.load(save_path))\n",
    "\n",
    "# save whole model\n",
    "torch.save(model, save_path)\n",
    "model = torch.load(save_path)\n"
   ]
  },
  {
   "cell_type": "code",
   "execution_count": null,
   "metadata": {
    "collapsed": true
   },
   "outputs": [],
   "source": [
    "def to_gpu(x):\n",
    "    return x.cuda()\n",
    "\n",
    "class ImagesDataset(torch.utils.data.Dataset):\n",
    "    pass\n",
    "\n",
    "class Net(nn.Module):\n",
    "    pass\n",
    "\n",
    "model = Net()\n",
    "optimizer = torch.optim.SGD(model.parameters(), lr=0.01)\n",
    "scheduler = lr_scheduler.StepLR(optimizer, step_size=30, gamma=0.1)\n",
    "criterion = torch.nn.MSELoss()\n",
    "\n",
    "fit_dataset = ImagesDataset(path_to_fit_images)\n",
    "fit_data_loader = torch.utils.data.DataLoader(fitdataset, batch_size=10)\n",
    "\n",
    "valid_dataset = ImagesDataset(path_to_valid_images)\n",
    "valid_data_loader = torch.utils.data.DataLoader(valid_dataset, batch_size=10)\n",
    "\n",
    "best_valid_loss = float('inf')\n",
    "for epoch in range(epochs):\n",
    "    # training\n",
    "    lr_scheduler.step()\n",
    "    for inputs, labels in fit_data_loader:\n",
    "        inputs = Variable(to_gpu(inputs))\n",
    "        labels = Variable(to_gpu(labels))\n",
    "\n",
    "        outputs = model(inputs)\n",
    "        loss = criterion(outputs, labels)\n",
    "\n",
    "        optimizer.zero_grad()\n",
    "        loss.backward()\n",
    "        optimizer.step()\n",
    "\n",
    "    # validation:\n",
    "    # TODO: spell this out!\n",
    "    valid_inputs, valid_labels = get_data()\n",
    "    \n",
    "    inputs = Variable(to_gpu(valid_inputs))\n",
    "    labels = Variable(to_gpu(valid_labels))\n",
    "\n",
    "    outputs = model(inputs)\n",
    "    loss = criterion(outputs, labels)\n",
    "    if loss < best_valid_loss:\n",
    "        best_valid_loss = loss\n",
    "        # spell_out:\n",
    "        save_model(model)\n"
   ]
  },
  {
   "cell_type": "code",
   "execution_count": null,
   "metadata": {
    "collapsed": true
   },
   "outputs": [],
   "source": [
    "import torch\n",
    "\n",
    "### tensor example\n",
    "x_cpu = torch.randn(10, 20)\n",
    "w_cpu = torch.randn(20, 10)\n",
    "# direct transfer to the GPU\n",
    "x_gpu = x_cpu.cuda()\n",
    "w_gpu = w_cpu.cuda()\n",
    "result_gpu = x_gpu @ w_gpu\n",
    "# get back from GPU to CPU\n",
    "result_cpu = result_gpu.cpu()\n",
    "print(result_cpu)\n",
    "\n",
    "### model example\n",
    "model = model.cuda()\n",
    "# train step\n",
    "inputs = Variable(inputs.cuda())\n",
    "outputs = model(inputs)\n",
    "# get back from GPU to CPU"
   ]
  },
  {
   "cell_type": "code",
   "execution_count": null,
   "metadata": {
    "collapsed": true
   },
   "outputs": [],
   "source": [
    "import torch\n",
    "from torch.autograd import Variable\n",
    "import torch.nn.functional as F\n",
    "\n",
    "\n",
    "x = Variable(torch.randn(10, 20), requires_grad=False)\n",
    "y = Variable(torch.randn(10, 3), requires_grad=False)\n",
    "# define some weights\n",
    "w1 = Variable(torch.randn(20, 5), requires_grad=True)\n",
    "w2 = Variable(torch.randn(5, 3), requires_grad=True)\n",
    "\n",
    "learning_rate = 0.1\n",
    "loss_fn = torch.nn.MSELoss()\n",
    "optimizer = torch.optim.SGD([w1, w2], lr=learning_rate)\n",
    "for step in range(5):\n",
    "    pred = F.sigmoid(x @ w1)\n",
    "    pred = F.sigmoid(pred @ w2)\n",
    "    loss = loss_fn(pred, y)\n",
    "\n",
    "    # manually zero all previous gradients\n",
    "    optimizer.zero_grad()\n",
    "    # calculate new gradients\n",
    "    loss.backward()\n",
    "    # apply new gradients\n",
    "    optimizer.step()"
   ]
  },
  {
   "cell_type": "code",
   "execution_count": null,
   "metadata": {
    "collapsed": true
   },
   "outputs": [],
   "source": [
    "import torch\n",
    "from torch.autograd import Variable\n",
    "x = Variable(torch.randn(3, 4), requires_grad=False)\n",
    "y = Variable(torch.randn(3, 2), requires_grad=False)\n",
    "# define some weights\n",
    "w1 = Variable(torch.randn(4, 2), requires_grad=True)\n",
    "w2 = Variable(torch.FloatTensor(w1.data.numpy()), requires_grad=True)\n",
    "for i in range(5):\n",
    "    loss1 = torch.mean((y - x @ w1) ** 2)\n",
    "    loss2 = torch.mean((y - x @ w2) ** 2)\n",
    "# calculate the gradients\n",
    "    loss1.backward()\n",
    "    loss2.backward()\n",
    "    print(\"w1 grad(zeroed)\", w1.grad)\n",
    "    print(\"w2 grad(not zeroed)\", w2.grad)\n",
    "    w1.grad.data.zero_()\n",
    "    print('-'*10)"
   ]
  }
 ],
 "metadata": {
  "kernelspec": {
   "display_name": "Python [conda root]",
   "language": "python",
   "name": "conda-root-py"
  },
  "language_info": {
   "codemirror_mode": {
    "name": "ipython",
    "version": 3
   },
   "file_extension": ".py",
   "mimetype": "text/x-python",
   "name": "python",
   "nbconvert_exporter": "python",
   "pygments_lexer": "ipython3",
   "version": "3.5.3"
  }
 },
 "nbformat": 4,
 "nbformat_minor": 2
}
