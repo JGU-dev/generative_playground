{
 "cells": [
  {
   "cell_type": "code",
   "execution_count": 1,
   "metadata": {},
   "outputs": [
    {
     "data": {
      "text/plain": [
       "True"
      ]
     },
     "execution_count": 1,
     "metadata": {},
     "output_type": "execute_result"
    }
   ],
   "source": [
    "%load_ext autoreload\n",
    "%autoreload 2\n",
    "import torch\n",
    "torch.cuda.is_available()"
   ]
  },
  {
   "cell_type": "code",
   "execution_count": 2,
   "metadata": {},
   "outputs": [
    {
     "name": "stdout",
     "output_type": "stream",
     "text": [
      "Variable containing:\n",
      " 0.4212  0.4983  0.0805  0.0000  0.0000\n",
      " 0.0000  0.0000  0.8173  0.1827  0.0000\n",
      " 0.0000  0.0000  0.0000  0.5424  0.4576\n",
      " 0.0000  0.0000  0.0000  0.0000  0.0964\n",
      " 0.0000  0.0000  0.0000  0.0000  0.0000\n",
      "[torch.cuda.FloatTensor of size 5x5 (GPU 0)]\n",
      " Variable containing:\n",
      " 0.4212\n",
      "[torch.cuda.FloatTensor of size 1 (GPU 0)]\n",
      " Variable containing:\n",
      " 1\n",
      " 0\n",
      " 0\n",
      " 0\n",
      " 0\n",
      "[torch.cuda.FloatTensor of size 5x1 (GPU 0)]\n",
      "\n"
     ]
    }
   ],
   "source": [
    "# Test the function generating warp matrix from vector of numbers between 0 and 1\n",
    "\n",
    "from reshape import WarpMatrix\n",
    "from torch.autograd import Variable\n",
    "from utils import to_gpu\n",
    "import torch\n",
    "\n",
    "\n",
    "#w=to_gpu(Variable(torch.FloatTensor(5,1).uniform_(), requires_grad = True))\n",
    "w=Variable(to_gpu(torch.FloatTensor(5,1).uniform_()), requires_grad = True)\n",
    "wmat = WarpMatrix.apply(w)\n",
    "loss = wmat.sum(0)[0]\n",
    "loss.backward()\n",
    "print(wmat, loss, w.grad)\n",
    "a = w.grad.data.zero_()"
   ]
  },
  {
   "cell_type": "code",
   "execution_count": 3,
   "metadata": {},
   "outputs": [
    {
     "name": "stdout",
     "output_type": "stream",
     "text": [
      "Variable containing:\n",
      "-0.6468 -0.2843 -0.5138 -0.2249  0.2218\n",
      "-1.2945 -0.2694 -0.8587 -0.6530 -0.7320\n",
      "-0.4633  0.1160 -1.7733 -0.8602  0.5088\n",
      " 0.3132  0.9833 -1.1292 -0.4555 -0.6932\n",
      " 0.8422  0.2082  0.0233  0.0203 -0.4404\n",
      " 1.2655 -0.2257 -1.8238  0.1501  0.1338\n",
      "-0.8861 -1.4449 -0.6904 -0.4980 -0.9470\n",
      "-0.0672 -0.1439  0.4930 -1.7946  0.4330\n",
      "-0.0413  0.0378 -0.5719 -0.5288  0.7495\n",
      "-0.5348 -0.1367 -0.3537  0.2314 -0.2199\n",
      "-0.4839  1.0498 -2.4528 -0.5887  0.7737\n",
      " 0.2252  1.1510 -0.2731 -0.0269 -0.4391\n",
      " 0.2271  0.1152 -0.1455  0.1239 -0.2068\n",
      " 0.0000  0.0000  0.0000  0.0000  0.0000\n",
      " 0.0000  0.0000  0.0000  0.0000  0.0000\n",
      " 0.0000  0.0000  0.0000  0.0000  0.0000\n",
      " 0.0000  0.0000  0.0000  0.0000  0.0000\n",
      " 0.0000  0.0000  0.0000  0.0000  0.0000\n",
      " 0.0000  0.0000  0.0000  0.0000  0.0000\n",
      " 0.0000  0.0000  0.0000  0.0000  0.0000\n",
      "[torch.cuda.FloatTensor of size 20x5 (GPU 0)]\n",
      " Variable containing:\n",
      "-16.4211\n",
      "[torch.cuda.FloatTensor of size 1 (GPU 0)]\n",
      " Variable containing:\n",
      " 5.1338\n",
      " 4.5506\n",
      " 3.9229\n",
      " 3.2347\n",
      "-0.1603\n",
      "[torch.cuda.FloatTensor of size 5x1 (GPU 0)]\n",
      "\n"
     ]
    }
   ],
   "source": [
    "# now let's test the whole fitted-weights-compression transform\n",
    "from reshape import FittedWarp\n",
    "from torch.autograd import Variable\n",
    "import torch\n",
    "\n",
    "true_w=Variable(to_gpu(torch.FloatTensor(5,1).uniform_()), requires_grad = True)\n",
    "\n",
    "warp = FittedWarp(true_w.shape)\n",
    "x = Variable(to_gpu(torch.randn(20,true_w.shape[0])))\n",
    "out = warp.forward(x)\n",
    "loss = out.sum()\n",
    "loss.backward()\n",
    "print(out, loss,warp.w.grad)\n",
    "# a =w.grad.data.zero_()"
   ]
  },
  {
   "cell_type": "code",
   "execution_count": 5,
   "metadata": {},
   "outputs": [],
   "source": [
    "# from visualize import make_dot\n",
    "# make_dot(loss)"
   ]
  },
  {
   "cell_type": "code",
   "execution_count": null,
   "metadata": {},
   "outputs": [
    {
     "name": "stdout",
     "output_type": "stream",
     "text": [
      "epoch  0\n",
      "we're improving! 0.36869949102401733\n",
      "successfully saved model\n",
      "epoch  1\n",
      "we're improving! 0.35812002420425415\n",
      "successfully saved model\n",
      "epoch  2\n",
      "epoch  3\n",
      "epoch  4\n",
      "we're improving! 4.964302206644788e-06\n",
      "successfully saved model\n",
      "epoch  5\n",
      "we're improving! 1.307108588033401e-11\n",
      "successfully saved model\n",
      "epoch  6\n",
      "we're improving! 3.474907861455989e-12\n",
      "successfully saved model\n",
      "epoch  7\n",
      "epoch  8\n"
     ]
    }
   ],
   "source": [
    "# now let's fit those weights\n",
    "from torch.optim import lr_scheduler\n",
    "from data_sources import data_gen\n",
    "from fit import fit\n",
    "true_warp = to_gpu(FittedWarp(true_w.shape))\n",
    "true_warp.w.data = true_w.data\n",
    "valid_gen = data_gen(batch_size = 100, batches = 1, model = true_warp)\n",
    "train_gen = data_gen(batch_size = 64, batches = 100, model = true_warp)\n",
    "\n",
    "#model = to_gpu(Net(true_w.shape))\n",
    "model = warp\n",
    "optimizer = torch.optim.SGD(model.parameters(), lr=0.05)\n",
    "scheduler = lr_scheduler.StepLR(optimizer, step_size=30, gamma=0.1)\n",
    "criterion = torch.nn.MSELoss()\n",
    "epochs = 10\n",
    "save_path = 'test.mdl'\n",
    "\n",
    "valid_data = next(valid_gen)\n",
    "train_data = [x for x in train_gen]\n",
    "\n",
    "fit(train_data = train_data,\n",
    "        valid_data = valid_data,\n",
    "        model = model,\n",
    "        optimizer = optimizer,\n",
    "        scheduler = scheduler,\n",
    "        epochs = epochs,\n",
    "        criterion = criterion,\n",
    "        save_path=save_path)\n",
    "print(warp.w, true_warp.w)"
   ]
  },
  {
   "cell_type": "code",
   "execution_count": null,
   "metadata": {},
   "outputs": [],
   "source": []
  },
  {
   "cell_type": "code",
   "execution_count": null,
   "metadata": {
    "collapsed": true
   },
   "outputs": [],
   "source": [
    "from torch.autograd import gradcheck\n",
    "\n",
    "# gradchek takes a tuple of tensor as input, check if your gradient\n",
    "# evaluated with these tensors are close enough to numerical\n",
    "# approximations and returns True if they all verify this condition.\n",
    "input = (Variable(torch.randn(20,20).double(), requires_grad=True), Variable(torch.randn(30,20).double(), requires_grad=True),)\n",
    "test = gradcheck(WarpMatrix.apply, input, eps=1e-6, atol=1e-4)\n",
    "print(test)"
   ]
  },
  {
   "cell_type": "code",
   "execution_count": null,
   "metadata": {
    "collapsed": true
   },
   "outputs": [],
   "source": [
    "import torch\n",
    "print(torch.__version__)\n",
    "class MyFunction(torch.autograd.Function):\n",
    "    @staticmethod\n",
    "    def forward(ctx, input):\n",
    "        ctx.save_for_backward(input)\n",
    "        output = torch.sign(input)\n",
    "        return output\n",
    "    @staticmethod\n",
    "    def backward(ctx, grad_output):\n",
    "        # saved tensors - tuple of tensors, so we need get first\n",
    "        input, = ctx.saved_variables\n",
    "#         grad_output[input.ge(1)] = 0\n",
    "#         grad_output[input.le(-1)] = 0\n",
    "        return grad_output\n",
    "\n",
    "\n",
    "# usage\n",
    "x = torch.autograd.Variable(torch.randn(10, 20), requires_grad = True)\n",
    "y = MyFunction.apply(x)\n",
    "# or\n",
    "# my_func = MyFunction.apply\n",
    "# y = my_func(x)\n",
    "loss = y.sum()\n",
    "loss.backward()"
   ]
  },
  {
   "cell_type": "code",
   "execution_count": null,
   "metadata": {
    "collapsed": true
   },
   "outputs": [],
   "source": [
    "import torch\n",
    "from torch.autograd import Variable\n",
    "import torch.nn.functional as F\n",
    "\n",
    "\n",
    "x = Variable(torch.randn(10, 20), requires_grad=False)\n",
    "y = Variable(torch.randn(10, 3), requires_grad=False)\n",
    "# define some weights\n",
    "w1 = Variable(torch.randn(20, 5), requires_grad=True)\n",
    "w2 = Variable(torch.randn(5, 3), requires_grad=True)\n",
    "\n",
    "learning_rate = 0.1\n",
    "loss_fn = torch.nn.MSELoss()\n",
    "optimizer = torch.optim.SGD([w1, w2], lr=learning_rate)\n",
    "for step in range(5):\n",
    "    pred = F.sigmoid(x @ w1)\n",
    "    pred = F.sigmoid(pred @ w2)\n",
    "    loss = loss_fn(pred, y)\n",
    "\n",
    "    # manually zero all previous gradients\n",
    "    optimizer.zero_grad()\n",
    "    # calculate new gradients\n",
    "    loss.backward()\n",
    "    # apply new gradients\n",
    "    optimizer.step()\n",
    "    print(loss)"
   ]
  },
  {
   "cell_type": "code",
   "execution_count": null,
   "metadata": {
    "collapsed": true
   },
   "outputs": [],
   "source": [
    "import torch\n",
    "\n",
    "first_counter = torch.Tensor([0])\n",
    "second_counter = torch.Tensor([10])\n",
    "some_value = torch.Tensor(15)\n",
    "\n",
    "while (first_counter < second_counter)[0]:\n",
    "    first_counter += 2\n",
    "    second_counter += 1"
   ]
  },
  {
   "cell_type": "code",
   "execution_count": null,
   "metadata": {
    "collapsed": true
   },
   "outputs": [],
   "source": [
    "next([1].iter())"
   ]
  },
  {
   "cell_type": "code",
   "execution_count": null,
   "metadata": {
    "collapsed": true
   },
   "outputs": [],
   "source": [
    "from collections import OrderedDict\n",
    "\n",
    "import torch.nn as nn\n",
    "\n",
    "\n",
    "# Example of using Sequential\n",
    "model = nn.Sequential(\n",
    "    nn.Conv2d(1, 20, 5),\n",
    "    nn.ReLU(),\n",
    "    nn.Conv2d(20, 64, 5),\n",
    "    nn.ReLU()\n",
    ")\n",
    "\n",
    "# Example of using Sequential with OrderedDict\n",
    "model = nn.Sequential(OrderedDict([\n",
    "    ('conv1', nn.Conv2d(1, 20, 5)),\n",
    "    ('relu1', nn.ReLU()),\n",
    "    ('conv2', nn.Conv2d(20, 64, 5)),\n",
    "    ('relu2', nn.ReLU())\n",
    "]))\n",
    "\n",
    "#output = model(some_input)"
   ]
  },
  {
   "cell_type": "code",
   "execution_count": null,
   "metadata": {
    "collapsed": true
   },
   "outputs": [],
   "source": [
    "from torch import nn\n",
    "\n",
    "class Model(nn.Module):\n",
    "    def __init__(self):\n",
    "        super().__init__()\n",
    "        self.feature_extractor = nn.Sequential(\n",
    "            nn.Conv2d(3, 12, kernel_size=3, padding=1, stride=1),\n",
    "            nn.Conv2d(12, 24, kernel_size=3, padding=1, stride=1),\n",
    "        )\n",
    "        self.second_extractor = nn.Conv2d(\n",
    "            24, 36, kernel_size=3, padding=1, stride=1)\n",
    "\n",
    "    def forward(self, x):\n",
    "        x = self.feature_extractor(x)\n",
    "        x = self.second_extractor(x)\n",
    "        # note that we may call same layer twice or mode\n",
    "        x = self.second_extractor(x)\n",
    "        return x"
   ]
  },
  {
   "cell_type": "code",
   "execution_count": null,
   "metadata": {
    "collapsed": true
   },
   "outputs": [],
   "source": [
    "import torch\n",
    "\n",
    "class MyFunction(torch.autograd.Function):\n",
    "\n",
    "    @staticmethod\n",
    "    def forward(ctx, input):\n",
    "        ctx.save_for_backward(input)\n",
    "        output = torch.sign(input)\n",
    "        return output\n",
    "\n",
    "    @staticmethod\n",
    "    def backward(ctx, grad_output):\n",
    "        # saved tensors - tuple of tensors, so we need get first\n",
    "        input, = ctx.saved_variables\n",
    "        grad_output[input.ge(1)] = 0\n",
    "        grad_output[input.le(-1)] = 0\n",
    "        return grad_output\n",
    "\n",
    "\n",
    "# usage\n",
    "x = torch.randn(10, 20)\n",
    "y = MyFunction.apply(x)\n",
    "# or\n",
    "my_func = MyFunction.apply\n",
    "print(MyFunction)\n",
    "y = my_func(x)\n",
    "\n",
    "\n",
    "# and if we want to use inside nn.Module\n",
    "class MyFunctionModule(torch.nn.Module):\n",
    "    def forward(self, x):\n",
    "        return MyFunction.apply(x)\n"
   ]
  },
  {
   "cell_type": "code",
   "execution_count": null,
   "metadata": {
    "collapsed": true
   },
   "outputs": [],
   "source": [
    "\n",
    "import torch\n",
    "\n",
    "### tensor example\n",
    "x_cpu = torch.randn(10, 20)\n",
    "w_cpu = torch.randn(20, 10)\n",
    "# direct transfer to the GPU\n",
    "x_gpu = x_cpu.cuda()\n",
    "w_gpu = w_cpu.cuda()\n",
    "result_gpu = x_gpu @ w_gpu\n",
    "# get back from GPU to CPU\n",
    "result_cpu = result_gpu.cpu()\n",
    "\n",
    "### model example\n",
    "model = model.cuda()\n",
    "# train step\n",
    "inputs = Variable(inputs.cuda())\n",
    "outputs = model(inputs)\n",
    "# get back from GPU to CPU\n",
    "outputs = outputs.cpu()\n"
   ]
  },
  {
   "cell_type": "code",
   "execution_count": null,
   "metadata": {
    "collapsed": true
   },
   "outputs": [],
   "source": [
    "\n",
    "import torch\n",
    "\n",
    "# check is cuda enabled\n",
    "torch.cuda.is_available()\n",
    "\n",
    "# set required device\n",
    "torch.cuda.set_device(0)\n",
    "\n",
    "# work with some required cuda device\n",
    "with torch.cuda.device(1):\n",
    "    # allocates a tensor on GPU 1\n",
    "    a = torch.cuda.FloatTensor(1)\n",
    "    assert a.get_device() == 1\n",
    "\n",
    "    # but you still can manually assign tensor to required device\n",
    "    d = torch.randn(2).cuda(2)\n",
    "    assert d.get_device() == 2\n"
   ]
  },
  {
   "cell_type": "code",
   "execution_count": null,
   "metadata": {
    "collapsed": true
   },
   "outputs": [],
   "source": [
    "\n",
    "import torch\n",
    "from torch.autograd import Variable\n",
    "\n",
    "# new way with `init` module\n",
    "w = torch.Tensor(3, 5)\n",
    "torch.nn.init.normal(w)\n",
    "# work for Variables also\n",
    "w2 = Variable(w)\n",
    "torch.nn.init.normal(w2)\n",
    "# old styled direct access to tensors data attribute\n",
    "w2.data.normal_()\n",
    "\n",
    "# example for some module\n",
    "def weights_init(m):\n",
    "    classname = m.__class__.__name__\n",
    "    if classname.find('Conv') != -1:\n",
    "        m.weight.data.normal_(0.0, 0.02)\n",
    "    elif classname.find('BatchNorm') != -1:\n",
    "        m.weight.data.normal_(1.0, 0.02)\n",
    "        m.bias.data.fill_(0)\n",
    "\n",
    "# for loop approach with direct access\n",
    "class MyModel(nn.Module):\n",
    "    def __init__(self):\n",
    "        for m in self.modules():\n",
    "            if isinstance(m, nn.Conv2d):\n",
    "                n = m.kernel_size[0] * m.kernel_size[1] * m.out_channels\n",
    "                m.weight.data.normal_(0, math.sqrt(2. / n))\n",
    "            elif isinstance(m, nn.BatchNorm2d):\n",
    "                m.weight.data.fill_(1)\n",
    "                m.bias.data.zero_()\n",
    "            elif isinstance(m, nn.Linear):\n",
    "                m.bias.data.zero_()\n"
   ]
  },
  {
   "cell_type": "code",
   "execution_count": null,
   "metadata": {
    "collapsed": true
   },
   "outputs": [],
   "source": [
    "\n",
    "# scheduler example\n",
    "from torch.optim import lr_scheduler\n",
    "\n",
    "optimizer = torch.optim.SGD(model.parameters(), lr=0.01)\n",
    "scheduler = lr_scheduler.StepLR(optimizer, step_size=30, gamma=0.1)\n",
    "\n",
    "for epoch in range(100):\n",
    "    scheduler.step()\n",
    "    train()\n",
    "    validate()\n",
    "\n",
    "# Train flag can be updated with boolean\n",
    "# to disable dropout and batch norm learning\n",
    "model.train(True)\n",
    "# execute train step\n",
    "model.train(False)\n",
    "# run inference step\n",
    "\n",
    "# CPU seed\n",
    "torch.manual_seed(42)\n",
    "# GPU seed\n",
    "torch.cuda.manual_seed_all(42)"
   ]
  },
  {
   "cell_type": "code",
   "execution_count": null,
   "metadata": {
    "collapsed": true
   },
   "outputs": [],
   "source": [
    "\n",
    "from collections import OrderedDict\n",
    "\n",
    "import torch.nn as nn\n",
    "save_path = 'test.mdl'\n",
    "model = nn.Sequential(OrderedDict([\n",
    "    ('conv1', nn.Conv2d(1, 20, 5)),\n",
    "    ('relu1', nn.ReLU()),\n",
    "    ('conv2', nn.Conv2d(20, 64, 5)),\n",
    "    ('relu2', nn.ReLU())\n",
    "]))\n",
    "\n",
    "print(model)\n",
    "\n",
    "# Sequential (\n",
    "#   (conv1): Conv2d(1, 20, kernel_size=(5, 5), stride=(1, 1))\n",
    "#   (relu1): ReLU ()\n",
    "#   (conv2): Conv2d(20, 64, kernel_size=(5, 5), stride=(1, 1))\n",
    "#   (relu2): ReLU ()\n",
    "# )\n",
    "\n",
    "# save/load only the model parameters(prefered solution)\n",
    "torch.save(model.state_dict(), save_path)\n",
    "model.load_state_dict(torch.load(save_path))\n",
    "\n",
    "# save whole model\n",
    "torch.save(model, save_path)\n",
    "model = torch.load(save_path)\n"
   ]
  },
  {
   "cell_type": "code",
   "execution_count": null,
   "metadata": {
    "collapsed": true
   },
   "outputs": [],
   "source": [
    "def to_gpu(x):\n",
    "    return x.cuda()\n",
    "\n",
    "class ImagesDataset(torch.utils.data.Dataset):\n",
    "    pass\n",
    "\n",
    "class Net(nn.Module):\n",
    "    pass\n",
    "\n",
    "model = Net()\n",
    "optimizer = torch.optim.SGD(model.parameters(), lr=0.01)\n",
    "scheduler = lr_scheduler.StepLR(optimizer, step_size=30, gamma=0.1)\n",
    "criterion = torch.nn.MSELoss()\n",
    "\n",
    "fit_dataset = ImagesDataset(path_to_fit_images)\n",
    "fit_data_loader = torch.utils.data.DataLoader(fitdataset, batch_size=10)\n",
    "\n",
    "valid_dataset = ImagesDataset(path_to_valid_images)\n",
    "valid_data_loader = torch.utils.data.DataLoader(valid_dataset, batch_size=10)\n",
    "\n",
    "best_valid_loss = float('inf')\n",
    "for epoch in range(epochs):\n",
    "    # training\n",
    "    lr_scheduler.step()\n",
    "    for inputs, labels in fit_data_loader:\n",
    "        inputs = Variable(to_gpu(inputs))\n",
    "        labels = Variable(to_gpu(labels))\n",
    "\n",
    "        outputs = model(inputs)\n",
    "        loss = criterion(outputs, labels)\n",
    "\n",
    "        optimizer.zero_grad()\n",
    "        loss.backward()\n",
    "        optimizer.step()\n",
    "\n",
    "    # validation:\n",
    "    # TODO: spell this out!\n",
    "    valid_inputs, valid_labels = get_data()\n",
    "    \n",
    "    inputs = Variable(to_gpu(valid_inputs))\n",
    "    labels = Variable(to_gpu(valid_labels))\n",
    "\n",
    "    outputs = model(inputs)\n",
    "    loss = criterion(outputs, labels)\n",
    "    if loss < best_valid_loss:\n",
    "        best_valid_loss = loss\n",
    "        # spell_out:\n",
    "        save_model(model)\n"
   ]
  },
  {
   "cell_type": "code",
   "execution_count": null,
   "metadata": {
    "collapsed": true
   },
   "outputs": [],
   "source": [
    "import torch\n",
    "\n",
    "### tensor example\n",
    "x_cpu = torch.randn(10, 20)\n",
    "w_cpu = torch.randn(20, 10)\n",
    "# direct transfer to the GPU\n",
    "x_gpu = x_cpu.cuda()\n",
    "w_gpu = w_cpu.cuda()\n",
    "result_gpu = x_gpu @ w_gpu\n",
    "# get back from GPU to CPU\n",
    "result_cpu = result_gpu.cpu()\n",
    "print(result_cpu)\n",
    "\n",
    "### model example\n",
    "model = model.cuda()\n",
    "# train step\n",
    "inputs = Variable(inputs.cuda())\n",
    "outputs = model(inputs)\n",
    "# get back from GPU to CPU"
   ]
  },
  {
   "cell_type": "code",
   "execution_count": null,
   "metadata": {
    "collapsed": true
   },
   "outputs": [],
   "source": [
    "import torch\n",
    "from torch.autograd import Variable\n",
    "import torch.nn.functional as F\n",
    "\n",
    "\n",
    "x = Variable(torch.randn(10, 20), requires_grad=False)\n",
    "y = Variable(torch.randn(10, 3), requires_grad=False)\n",
    "# define some weights\n",
    "w1 = Variable(torch.randn(20, 5), requires_grad=True)\n",
    "w2 = Variable(torch.randn(5, 3), requires_grad=True)\n",
    "\n",
    "learning_rate = 0.1\n",
    "loss_fn = torch.nn.MSELoss()\n",
    "optimizer = torch.optim.SGD([w1, w2], lr=learning_rate)\n",
    "for step in range(5):\n",
    "    pred = F.sigmoid(x @ w1)\n",
    "    pred = F.sigmoid(pred @ w2)\n",
    "    loss = loss_fn(pred, y)\n",
    "\n",
    "    # manually zero all previous gradients\n",
    "    optimizer.zero_grad()\n",
    "    # calculate new gradients\n",
    "    loss.backward()\n",
    "    # apply new gradients\n",
    "    optimizer.step()"
   ]
  },
  {
   "cell_type": "code",
   "execution_count": null,
   "metadata": {
    "collapsed": true
   },
   "outputs": [],
   "source": [
    "import torch\n",
    "from torch.autograd import Variable\n",
    "x = Variable(torch.randn(3, 4), requires_grad=False)\n",
    "y = Variable(torch.randn(3, 2), requires_grad=False)\n",
    "# define some weights\n",
    "w1 = Variable(torch.randn(4, 2), requires_grad=True)\n",
    "w2 = Variable(torch.FloatTensor(w1.data.numpy()), requires_grad=True)\n",
    "for i in range(5):\n",
    "    loss1 = torch.mean((y - x @ w1) ** 2)\n",
    "    loss2 = torch.mean((y - x @ w2) ** 2)\n",
    "# calculate the gradients\n",
    "    loss1.backward()\n",
    "    loss2.backward()\n",
    "    print(\"w1 grad(zeroed)\", w1.grad)\n",
    "    print(\"w2 grad(not zeroed)\", w2.grad)\n",
    "    w1.grad.data.zero_()\n",
    "    print('-'*10)"
   ]
  }
 ],
 "metadata": {
  "kernelspec": {
   "display_name": "Python [conda root]",
   "language": "python",
   "name": "conda-root-py"
  },
  "language_info": {
   "codemirror_mode": {
    "name": "ipython",
    "version": 3
   },
   "file_extension": ".py",
   "mimetype": "text/x-python",
   "name": "python",
   "nbconvert_exporter": "python",
   "pygments_lexer": "ipython3",
   "version": "3.5.3"
  }
 },
 "nbformat": 4,
 "nbformat_minor": 2
}
